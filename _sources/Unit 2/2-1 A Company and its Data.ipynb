{
 "cells": [
  {
   "cell_type": "markdown",
   "id": "fe82dc62-6f16-4728-bbe5-516a66395285",
   "metadata": {},
   "source": [
    "# A Company and its Data"
   ]
  },
  {
   "cell_type": "markdown",
   "id": "40ae7776-2099-4a67-80c7-e39ee6aa9a35",
   "metadata": {},
   "source": [
    "You decide to start a business. One of your passions is gourmet foods and you struggle to find foods that you like in your city. You therefore decide to become a distributor of these foods. You will purchase gourmet food items from suppliers in large quantities and resell them to retailers across the country. You decide to name your company *Northwind Traders*."
   ]
  },
  {
   "cell_type": "markdown",
   "id": "32a314aa-9099-4f55-97dd-b5819391e78d",
   "metadata": {},
   "source": [
    "You have written a business plan and made financial projections. You have secured financing for your business. You have found a property to serve as your warehouse and office. At this point, it occurs to you that you need a plan for your business's data. What data should you collect and what reports will you require on a regular basis? How should you store this data? Should you write your own software or use something \"off the shelf\" like QuickBooks? Even if you use QuickBooks, you still need to think about data collection and analysis because you will need to set up QuickBooks. As you think about this, you decide to make data your top priority. It will be the lifeblood of your business. You cannot determine the health of your business or manage your business without data."
   ]
  },
  {
   "cell_type": "markdown",
   "id": "eb2b7e63-9da4-4e16-aacf-a166f3e63cae",
   "metadata": {},
   "source": [
    "## Business Reporting"
   ]
  },
  {
   "cell_type": "markdown",
   "id": "6f327c74-4322-49da-b3f6-f179f489dbaf",
   "metadata": {},
   "source": [
    "You decide to begin your journey with data by thinking about the reports, analyses, and questions that you must answer. You will work backwards from these. You decide that your company will regularly need to generate the following:\n",
    "\n",
    "* **Financial statements** (balance sheet, income statement, cash flow statement). Your lenders and equity investors require these.\n",
    "* **Product reports**. You decide that you want to track product sales and profitability. You also want to track inventory levels over time and optimize your inventory replenishment policies.\n",
    "* **Customer reports**. How many customers do you have? Is the number of customers increasing over time, or are existing customers ordering more or less? Which customers account for the bulk of your revenues and profits? What are customers' ordering patterns?\n",
    "* **Employee reports**. How many employees do you have? What are their roles? What does your org chart look like? Which employees are your top salespeople? Do you have a lot of turnover among employees?\n",
    "* **Supplier reports**. Which suppliers account (indirectly) for the bulk of your profits? Do some suppliers give you better terms than others?\n",
    "* **Cash balance forecasting**. You have credit lines with your suppliers, but your customers also have credit lines with you. You need to have enough cash on hand to make payroll and replenish inventory.\n",
    "* **Shippers**. As a distributor, shipping is one of your biggest expenses. Do some shippers charge more than others? Do some shippers take longer than others?\n",
    "\n",
    "And last, but not least:\n",
    "\n",
    "* **Orders**. A customer order is the basic unit of activity at your company. You decide that you want to maintain detailed information on orders. Which customer placed the order, and with which employee? How long (on average) between order placement and fulfillment? How many items per order? Were these items profitable?"
   ]
  },
  {
   "cell_type": "markdown",
   "id": "0f723c51-b0c1-4adf-8532-47c98ba08f22",
   "metadata": {},
   "source": [
    "## Data Needed"
   ]
  },
  {
   "cell_type": "markdown",
   "id": "df38b1c1-9149-4653-9e7e-166e3ab400b1",
   "metadata": {},
   "source": [
    "For each of the reports in the previous section, you must make a list of all data items needed to generate those reports. From these, you can lay out database tables and the relationships between them. We will discuss these topics in detail in the next few chapters. Also, most commercial accounting software is designed with these requirements in mind and already has some data templates that you can use as a starting point."
   ]
  },
  {
   "cell_type": "markdown",
   "id": "14e50238-a06b-403b-8210-2f5bdbb63227",
   "metadata": {},
   "source": [
    "## Example: Microsoft's Northwind Traders Database"
   ]
  },
  {
   "cell_type": "markdown",
   "id": "c607382d-79cf-4dc4-bacf-6d365762ed4c",
   "metadata": {},
   "source": [
    "In the 1990's, Microsoft created a sample database called [Northwind Traders](https://github.com/microsoft/sql-server-samples/tree/master/samples/databases/northwind-pubs). This database was distributed with Microsoft Access and was intended to help users learn database concepts in a realistic business setting. Because of its ease-of-use, Northwind Traders is still used today."
   ]
  },
  {
   "cell_type": "markdown",
   "id": "1cbd5915-f384-4c0f-9721-a27e469686ee",
   "metadata": {},
   "source": [
    "The Northwind Traders database contains many tables. Below, I list some of the main tables. You can use these to generate the reports listed above. I omitted some tables that provide supporting information. In later chapters, I will discuss the relationships between tables."
   ]
  },
  {
   "cell_type": "markdown",
   "id": "44f736ed-1b47-465c-a0b4-38dacb17db14",
   "metadata": {},
   "source": [
    "### Products Table"
   ]
  },
  {
   "cell_type": "markdown",
   "id": "bdf70614-c173-4b65-8f4f-e772f3427907",
   "metadata": {},
   "source": [
    "There is one row per product that Northwind Traders stocks. Each row contains a product identifier, the product's name, the product's supplier, the product's selling price and your cost, the number of units in inventory, the number of units on order, and the reorder level.\n",
    "\n",
    "As you think about this, you wonder why the product's price and cost are stored here. Might these change over time? If they do, don't you need to track that somewhere for your financial statements?"
   ]
  },
  {
   "cell_type": "markdown",
   "id": "d87f84a6-7ba4-4e11-8c8b-0d368971b1a9",
   "metadata": {},
   "source": [
    "### Customers Table"
   ]
  },
  {
   "cell_type": "markdown",
   "id": "d8546f72-6eb5-4fbc-9821-610b32de4261",
   "metadata": {},
   "source": [
    "There is one row per customer. Each row contains a customer identifier, the customer's name, point of contact, address, and phone number."
   ]
  },
  {
   "cell_type": "markdown",
   "id": "c413a453-076a-4e09-a4f0-b7fb53045a82",
   "metadata": {},
   "source": [
    "### Employees Table"
   ]
  },
  {
   "cell_type": "markdown",
   "id": "968a5407-5375-4580-92a0-2c8a98bb420a",
   "metadata": {},
   "source": [
    "There is one row per employee. Each row contains an employee identifier, the employee's first and last name, title, birth date, hire date, address, phone, and a photo (yes, it's possible to store photos in a database!)."
   ]
  },
  {
   "cell_type": "markdown",
   "id": "457352ed-0556-43f2-a7fa-19f0fd2f59fa",
   "metadata": {},
   "source": [
    "### Shippers Table"
   ]
  },
  {
   "cell_type": "markdown",
   "id": "1233325c-95fa-4e11-85bf-14418f0aa3ec",
   "metadata": {},
   "source": [
    "There is one row per shipper that Northwind Traders uses. If this were a real company, this table would contain shippers like FedEx and UPS. However, since this is a fictitious company, fictitious shippers are listed. Each row contains a shipper identifier and the shipper's name and phone number."
   ]
  },
  {
   "cell_type": "markdown",
   "id": "fb728f38-8df2-4ac6-9814-2dfacc447acd",
   "metadata": {},
   "source": [
    "### Suppliers Table"
   ]
  },
  {
   "cell_type": "markdown",
   "id": "6c95e157-761a-4537-9d18-df9a98011238",
   "metadata": {},
   "source": [
    "There is one row per supplier that Northwind Traders uses. Each row contains a supplier identifier, the supplier's name, point of contact, address, phone number, and web site URL."
   ]
  },
  {
   "cell_type": "markdown",
   "id": "d2a181eb-78b7-48a9-8e03-c61ba1b211f5",
   "metadata": {},
   "source": [
    "### Orders and Order Details Tables"
   ]
  },
  {
   "cell_type": "markdown",
   "id": "3f51db17-7280-4bfa-acc2-7cbbec29b315",
   "metadata": {},
   "source": [
    "You notice that Northwind Traders has two tables that contain information about orders.\n",
    "\n",
    "**Orders Table**  \n",
    "The orders table contains one row per order. Each row contains an order identifier, a customer identifier, an employee identifier, the order date, the ship date, the freight cost, and the ship-to address.\n",
    "\n",
    "**Order Details Table**\n",
    "This table contains one row per order per item ordered. Thus, if an order consists of three items, there will be one row in the Orders table and three rows in the Order Details table. Each row in this table contains an order identifier, a product identifier, a price, a quantity, and the percentage discount applied.\n",
    "\n",
    "As you think about this layout, it begins to make sense. Why is it not possible to all this information in one table?"
   ]
  },
  {
   "cell_type": "markdown",
   "id": "ceb6ec9d-823e-4373-8d13-7d9e3ca56d5f",
   "metadata": {},
   "source": [
    "### Relationship Diagram"
   ]
  },
  {
   "cell_type": "markdown",
   "id": "c1e2ee0a-94eb-4494-a090-18cbe0cf90fa",
   "metadata": {},
   "source": [
    "If it is difficult to remember the details about all the tables, you may find the following \"relationship diagram\" useful. It shows all the tables in the database. It also shows links between the tables.\n",
    "\n",
    "Consider the Suppliers and Products tables on the left side. Each product must have one, and only one supplier (in the real world, it is possible to have multiple suppliers of the same product, but let's assume that is not the case here). This is denoted by the kinked line between the Suppliers and Products table. Notice that there is a key symbol at one end of the line, and an infinity symbol at the other (the infinity looks like two circles, but it's actually an infinity ∞). The key means \"one\", and the infinity means \"many\". That means that each product must have one, and only one, supplier. Each supplier, however, can be associated with multiple products. Also notice that the line connects the SupplierID columns in both tables. That means that the number in the SupplierID column in the Products table must match a SupplierID in the Supplier table. This is a way of ensuring data integrity."
   ]
  },
  {
   "cell_type": "markdown",
   "id": "1bf33671-90d3-4673-adc4-c4a92da0c1ce",
   "metadata": {},
   "source": [
    "![](imgs/NWT_Relationships.png)"
   ]
  },
  {
   "cell_type": "markdown",
   "id": "d75a2d32-d080-42d2-b96e-77982aafc7cf",
   "metadata": {},
   "source": [
    "## Conclusion"
   ]
  },
  {
   "cell_type": "markdown",
   "id": "0e987ffc-0866-4266-8895-82862a676885",
   "metadata": {},
   "source": [
    "Businesses constantly think about data. They must decide which data to collect, given their reporting requirements. Once that is known, they must organize their data in a manner that reduces the chance of data errors while allowing for efficient retrieval for reporting purposes. This is an ongoing process and is one reason why chief information officers (CIO's) and IT consultants are well compensated.\n",
    "\n",
    "In the next few chapters, you will learn how business data is stored in databases. In the next unit, you will learn how to retrieve, transform, and aggregate that data."
   ]
  }
 ],
 "metadata": {
  "kernelspec": {
   "display_name": "Python 3 (ipykernel)",
   "language": "python",
   "name": "python3"
  },
  "language_info": {
   "codemirror_mode": {
    "name": "ipython",
    "version": 3
   },
   "file_extension": ".py",
   "mimetype": "text/x-python",
   "name": "python",
   "nbconvert_exporter": "python",
   "pygments_lexer": "ipython3",
   "version": "3.13.2"
  }
 },
 "nbformat": 4,
 "nbformat_minor": 5
}
