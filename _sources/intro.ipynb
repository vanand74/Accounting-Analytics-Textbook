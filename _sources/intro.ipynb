{
 "cells": [
  {
   "cell_type": "markdown",
   "metadata": {},
   "source": [
    "# Introduction and Welcome"
   ]
  },
  {
   "cell_type": "markdown",
   "metadata": {},
   "source": [
    "Welcome to ACC 3323, _Data Analytics for Accounting_!\n",
    "\n",
    "Data analytics is a *process* for using data to gain insights into business decisions. In this course, you will learn this process and apply it to accounting tasks. You can learn this process in any data-oriented software package such as Excel, Tableau, Alteryx, or Power BI. Since you will likely use such software during your interships and at your first job, and I will spend time teaching you Excel and Tableau in ACC 3323. However, such tools are _not_ the best way to _learn_ the process of data analytics. It is too easy to use these tools without understanding what you are doing. That leads to flawed analyses and poor work. Therefore, a better approach is needed to learn data analytics.\n",
    "\n",
    "Many practicing data analysts and data scientists use a \"real\" programming language like Python, R, or SQL. In fact, I just did a Google search for \"_popular language for data analytics_\", and the first sentence of Google AI's response was \"*The most popular languages for data analytics are Python, R, and SQL.*\" Why are these languages so popular in data analytics? Because in a \"real\" programming language:\n",
    "\n",
    "* You must write code that is a sequence of steps. That means:\n",
    "    - Your work will be reproducible. \n",
    "    - It is possible to _audit_ your work.\n",
    "* Your code and your data are separated. That means:\n",
    "    - You are less likely to accidently change your data.\n",
    "    - If your data changes, you can just run your code again without having to copy and paste new data into your Excel file.\n",
    "* It is easier and faster to work with larger data sets.\n",
    "\n",
    "Don't misunderstand. I love Excel and use it regularly. However, it is not the best tool for _learning_ data analytics. If you learn how to work with data in a real programming language, you will be able to easily translate your skills to Excel. Those skills will allow you to work faster and better in Excel.\n",
    "\n",
    "I have chosen to use SQL as the primary teaching tool in ACC 3323. I will begin the course by teaching you how data is stored in databases. I will then teach you about SQL SELECT queries. As you will see, SQL provides an excellent framework for thinking about data analyses.\n",
    "\n",
    "Don't worry! I am not trying to make you a programmer or a data scientist. My goal is to teach you some analytics concepts and skills that you will use as a practicing accountant. SQL is simply a tool for learning those concepts and skills.\n",
    "\n",
    "As an aside, you will have lots of \"street cred\" if you say you know SQL when you interview for jobs. Big 4 partners are always impressed when I tell them that my students know SQL. SQL is currently one of the most popular programming languages in the world, and one of the most popular for data science. Make sure to add SQL to your resume!"
   ]
  }
 ],
 "metadata": {
  "kernelspec": {
   "display_name": "Python 3 (ipykernel)",
   "language": "python",
   "name": "python3"
  },
  "language_info": {
   "codemirror_mode": {
    "name": "ipython",
    "version": 3
   },
   "file_extension": ".py",
   "mimetype": "text/x-python",
   "name": "python",
   "nbconvert_exporter": "python",
   "pygments_lexer": "ipython3",
   "version": "3.10.10"
  }
 },
 "nbformat": 4,
 "nbformat_minor": 4
}
