{
 "cells": [
  {
   "cell_type": "markdown",
   "id": "aaaf4878-aa8c-45b5-bea1-aa6d8b0ac04b",
   "metadata": {},
   "source": [
    "# Running Queries in VS Code"
   ]
  },
  {
   "cell_type": "markdown",
   "id": "2240001e-80bb-45a3-b6d1-67ee57f8ee4d",
   "metadata": {},
   "source": [
    "I provide detailed instructions on how to create and run queries in VS Code in the following YouTube video:\n",
    "\n",
    "https://www.youtube.com/watch?v=7DDN4dS_laA\n",
    "\n",
    "The video has the following chapters:\n",
    "* Open VS Code and connect to database\n",
    "* Viewing a list of database tables\n",
    "* Relationship diagrams\n",
    "* Writing a query - Method 1\n",
    "* Running a query\n",
    "* Writing and saving a query - Method 2\n",
    "* Writing a query - Method 3\n",
    "* Customizing window layout\n",
    "* Saving to Excel\n",
    "* Copying results\n",
    "* Sorting results\n",
    "* Filtering results"
   ]
  }
 ],
 "metadata": {
  "kernelspec": {
   "display_name": "Python 3 (ipykernel)",
   "language": "python",
   "name": "python3"
  },
  "language_info": {
   "codemirror_mode": {
    "name": "ipython",
    "version": 3
   },
   "file_extension": ".py",
   "mimetype": "text/x-python",
   "name": "python",
   "nbconvert_exporter": "python",
   "pygments_lexer": "ipython3",
   "version": "3.13.2"
  }
 },
 "nbformat": 4,
 "nbformat_minor": 5
}
