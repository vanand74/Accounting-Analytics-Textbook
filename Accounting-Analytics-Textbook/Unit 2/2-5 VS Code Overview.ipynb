{
 "cells": [
  {
   "cell_type": "markdown",
   "id": "dd5a7a15-27a7-44c3-8a0a-4b6b5fbf2319",
   "metadata": {},
   "source": [
    "# Visual Studio Code Overview"
   ]
  },
  {
   "cell_type": "markdown",
   "id": "03c3469f-bbc8-4171-a551-a6b62a516659",
   "metadata": {},
   "source": [
    "There is a video that covers everything in this chapter. Use the video if you prefer.\n",
    "\n",
    "https://www.youtube.com/watch?v=rm1iMrSYbLU"
   ]
  },
  {
   "cell_type": "markdown",
   "id": "fdc06836-a8d6-4eda-ae57-23e76da99339",
   "metadata": {},
   "source": [
    "## What is Visual Studio Code?"
   ]
  },
  {
   "cell_type": "markdown",
   "id": "6226e8b1-b900-4463-ad13-b207905b7684",
   "metadata": {},
   "source": [
    "Visual Studio Code (VS Code) is a word processor for programmers. Just like Microsoft Word and Google Docs are designed for creating documents, VS Code is designed for creating, testing, debugging, and running computer code. At the time of this writing, VS Code is the most popular code editor in the world.<sup>\\[1\\]</sup>"
   ]
  },
  {
   "cell_type": "markdown",
   "id": "47ca5d4e-5ea6-46a9-955b-9a8820ae139f",
   "metadata": {},
   "source": [
    "## Changing the Color Theme"
   ]
  },
  {
   "cell_type": "markdown",
   "id": "47faea32-4aa2-4a82-b2ed-b7e77c4c423d",
   "metadata": {},
   "source": [
    "Before discussing some of its features, let's make VS Code visually appealing. VS Code can be customized, and one of the most common customizations is the colors. When you installed VS Code, it likely defaulted to either a built-in light or dark theme. I provide pictures of both below."
   ]
  },
  {
   "cell_type": "markdown",
   "id": "cbb3eac1-6cd4-4a9d-9a0b-66df1c063730",
   "metadata": {},
   "source": [
    "### Light Theme"
   ]
  },
  {
   "cell_type": "markdown",
   "id": "32a716cb-d4c4-43e2-bcbd-f373a69e3c46",
   "metadata": {},
   "source": [
    "![Light Theme](imgs/Light.png)"
   ]
  },
  {
   "cell_type": "markdown",
   "id": "9b41891c-fe33-4dd4-8db5-9bcb5977669a",
   "metadata": {},
   "source": [
    "### Dark Theme"
   ]
  },
  {
   "cell_type": "markdown",
   "id": "9bd0e37d-7e6d-454f-8a50-b9879b048731",
   "metadata": {},
   "source": [
    "![Dark Theme](imgs/Dark.png)"
   ]
  },
  {
   "cell_type": "markdown",
   "id": "bb80465f-5927-4242-ab5e-876251c64cd5",
   "metadata": {},
   "source": [
    "You can choose whichever of these themes that you prefer. You can also choose from other built-in themes or download a new theme.\n",
    "\n",
    "To set the color theme, go to the *File menu > Preferences > Themes > Color Theme*. Then choose a theme from the menu that appears."
   ]
  },
  {
   "cell_type": "markdown",
   "id": "30850c3f-f531-4413-a968-55d5eb918b69",
   "metadata": {},
   "source": [
    "## Some Helpful Features"
   ]
  },
  {
   "cell_type": "markdown",
   "id": "97590b26-6086-44b3-82f1-9a351c89cfcf",
   "metadata": {},
   "source": [
    "VS Code is designed for programming, and many of its features will enhance your productivity when writing code. In the following paragraphs, I will demonstrate a few of the many available features."
   ]
  },
  {
   "cell_type": "markdown",
   "id": "af8efa62-32b8-4643-8900-9ff5678c9696",
   "metadata": {},
   "source": [
    "### Automatic Text Coloring"
   ]
  },
  {
   "cell_type": "markdown",
   "id": "079b05a4-c526-4402-b94d-82489c3c80cd",
   "metadata": {},
   "source": [
    "![Text Coloring](imgs/Text_coloring.png)\n",
    "\n",
    "The graphic shows a snapshot of a SQL query in VS Code. Notice that some words are black while others are blue. The blue indicates a SQL keyword. As you write more advanced queries, you will find text coloring to be very helpful."
   ]
  },
  {
   "cell_type": "markdown",
   "id": "44f571f8-6e8a-44f8-a0fc-a8ab6405d09e",
   "metadata": {},
   "source": [
    "### Hovering"
   ]
  },
  {
   "cell_type": "markdown",
   "id": "d1696ccb-063f-4c74-af21-12b41d65f978",
   "metadata": {},
   "source": [
    "![Hovering](imgs/Hovering.png)\n",
    "\n",
    "The graphic shows a snapshot of a SQL query, with my mouse hovering over the text `EmployeeID`. When I hovered, a popup appeared that provided me with information about the column. The `PK` tells me that EmployeeID is the primary key; the `int` tells me that the column's data type is integer, and the `not null` tells me that the column cannot contain a null, or missing, value."
   ]
  },
  {
   "cell_type": "markdown",
   "id": "0fe533e8-dc5d-434b-b40b-6952df5af9da",
   "metadata": {},
   "source": [
    "![Hovering](imgs/Hovering2.png)\n",
    "\n",
    "The graphic shows a snapshot of the same SQL query, but with my mouse hovering over the text `Employees`. The resulting popup tells me that Employees is a table in the Northwind Traders database."
   ]
  },
  {
   "cell_type": "markdown",
   "id": "351d9a0e-f47d-48d8-95d2-9b171287150b",
   "metadata": {},
   "source": [
    "Hovering is super useful, as it quickly provides you with relevant information without the need to switch windows."
   ]
  },
  {
   "cell_type": "markdown",
   "id": "b467df2b-ac63-4aa4-a262-df6c679bb184",
   "metadata": {},
   "source": [
    "### Text Highlighting"
   ]
  },
  {
   "cell_type": "markdown",
   "id": "bdadc792-7779-4159-8700-2750528e62ea",
   "metadata": {},
   "source": [
    "![Text Highlighting](imgs/Highlighting.png)\n",
    "\n",
    "The graphic shows a snapshot of a SQL query in VS Code. I deliberately made an error by inserting the nonsensical word \"Moo\" into my query. Notice that VS Code drew a red squiggly line underneath \"Moo\" and, when I hover, provides an error message."
   ]
  },
  {
   "cell_type": "markdown",
   "id": "d9f9892d-017f-40e8-81f2-c722f392dbf0",
   "metadata": {},
   "source": [
    "![Text Highlighting2](imgs/Highlighting2.png)\n",
    "\n",
    "Here, I moved the word \"Moo\" to a different location. VS Code drew a red squiggly line, but the error message changed. It now tells me that \"Moo\" is not a valid column name."
   ]
  },
  {
   "cell_type": "markdown",
   "id": "5c610016-354e-48f3-9779-895dead8c6de",
   "metadata": {},
   "source": [
    "### Auto Complete"
   ]
  },
  {
   "cell_type": "markdown",
   "id": "241269be-5aec-460d-8432-805363995846",
   "metadata": {},
   "source": [
    "![Auto Complete 2](imgs/AutoComplete.png)\n",
    "\n",
    "Auto completion is one of my favorite features. It makes life easier when coding. Say that you are typing a column name. You must spell it correctly or else your code will not work. In this case, I want to add the `BirthDate` column, but I cannot remember whether the correct spelling is \"Birth Date\", \"Birthday\", \"Birth day\", or \"BirthDate\". I can look this up in many ways, but that is not necessary with auto complete. Just type a few characters of the column name, and VS Code will create a list of possible completions. Notice that I typed \"Bir\" and it is already suggesting the column name. VS Code tries to guess what you want and puts that at the top of the list. Its guess is usually good!\n",
    "\n",
    "Once the item you want is in sight, hit TAB if it is the first in the list. If not, use the arrow keys to select it, then hit TAB, or select it with your mouse."
   ]
  },
  {
   "cell_type": "markdown",
   "id": "2aeb64af-0ea5-4a49-a368-178c09c65a45",
   "metadata": {},
   "source": [
    "![Auto Complete 2](imgs/AutoComplete2.png)\n",
    "\n",
    "You do not need to type the first few letters of the thing you want. *Any* letters will do. In this example, I could not remember the name of the ZIP Code column, so I typed \"code\". The first suggestion is the one I want."
   ]
  },
  {
   "cell_type": "markdown",
   "id": "814a59c2-8311-42e0-9bea-282fb4e575a6",
   "metadata": {},
   "source": [
    "## Extensions"
   ]
  },
  {
   "cell_type": "markdown",
   "id": "6d94914b-295b-4845-ba10-a8bd78dec623",
   "metadata": {},
   "source": [
    "Extensions in Visual Studio Code (VS Code) are like plug-ins in your web browser. They provide new functionality for VS Code. VS Code supports a few programming languages by default, but most require an extension. \n",
    "\n",
    "In our class, you will need one extension, [SQL Server (mssql)](https://marketplace.visualstudio.com/items?itemName=ms-mssql.mssql). You should have installed this extension when you installed VS Code, but let's check whether you have it.\n",
    "\n",
    "1. Go to the toolbar on the left and click on the extensions button (see graphic below).\n",
    "2. Look for something that says \"SQL Server (mssql)\". If it appears in your list of extensions (see second graphic below), you successfully installed it. "
   ]
  },
  {
   "cell_type": "markdown",
   "id": "8cf4a9e0-49fa-4fa4-987c-89816fe4f823",
   "metadata": {},
   "source": [
    "### Extensions Button"
   ]
  },
  {
   "cell_type": "markdown",
   "id": "37a28736-1d40-483a-9eea-24e7c05b007d",
   "metadata": {},
   "source": [
    "![Extensions button](imgs/Extensions_button.png)"
   ]
  },
  {
   "cell_type": "markdown",
   "id": "0e75eaec-df50-45c7-a2dc-8adfce21c6ed",
   "metadata": {},
   "source": [
    "### Proof that Extension is Installed"
   ]
  },
  {
   "cell_type": "markdown",
   "id": "8d824b7c-7af3-4b2e-a9ca-e303659daba2",
   "metadata": {},
   "source": [
    "![Proof that extension is installed](imgs/Extensions2.png)"
   ]
  },
  {
   "cell_type": "markdown",
   "id": "3e7841ed-77d7-4885-b25c-8c0ff05ff82d",
   "metadata": {},
   "source": [
    "## References"
   ]
  },
  {
   "cell_type": "markdown",
   "id": "3b82dde2-a873-4ec7-beda-37ad08bd7f7b",
   "metadata": {},
   "source": [
    "\\[1\\] https://visualstudiomagazine.com/articles/2025/08/01/stack-overflow-dev-survey-visual-studio-vs-code-hold-of-ai-ides-to-remain-on-top.aspx"
   ]
  }
 ],
 "metadata": {
  "kernelspec": {
   "display_name": "Python 3 (ipykernel)",
   "language": "python",
   "name": "python3"
  },
  "language_info": {
   "codemirror_mode": {
    "name": "ipython",
    "version": 3
   },
   "file_extension": ".py",
   "mimetype": "text/x-python",
   "name": "python",
   "nbconvert_exporter": "python",
   "pygments_lexer": "ipython3",
   "version": "3.13.2"
  }
 },
 "nbformat": 4,
 "nbformat_minor": 5
}
