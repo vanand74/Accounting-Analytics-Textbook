{
 "cells": [
  {
   "cell_type": "markdown",
   "id": "71b2aa4e-cbac-4159-b261-bde4b7aef6d3",
   "metadata": {},
   "source": [
    "# Connecting to a Database"
   ]
  },
  {
   "cell_type": "markdown",
   "id": "e1618d1a-5c86-419d-9463-749462a348cb",
   "metadata": {},
   "source": [
    "There is a video that covers everything in this chapter. Use the video if you prefer.\n",
    "\n",
    "https://www.youtube.com/watch?v=4zR3CUIYXNA"
   ]
  },
  {
   "cell_type": "markdown",
   "id": "0455ce4f",
   "metadata": {},
   "source": [
    "## Connecting for the First Time"
   ]
  },
  {
   "cell_type": "markdown",
   "id": "474de429-70a0-4fc9-9941-8e4139518add",
   "metadata": {},
   "source": [
    "During the semester, we will connect to many databases. This chapter provides instructions on how to connect to a database for the first time in VS Code."
   ]
  },
  {
   "cell_type": "markdown",
   "id": "c3934640-5525-4e1d-9e04-6e49abe98ccd",
   "metadata": {},
   "source": [
    "### Instructions"
   ]
  },
  {
   "cell_type": "markdown",
   "id": "7d1f40ad-0707-4e89-a912-4a455817b900",
   "metadata": {},
   "source": [
    "1. Open VS Code\n",
    "2. On the toolbar on the left, click on the SQL Server button, which looks like this:\n",
    "\n",
    "![SQL Server button](imgs/SQL_Server_button.png)"
   ]
  },
  {
   "cell_type": "markdown",
   "id": "fcb25130-ea94-4473-a399-aa4452ee7261",
   "metadata": {},
   "source": [
    "3. Next to the word CONNECTIONS, click the + button.\n",
    "\n",
    "![Add connection](imgs/Add_connection.png)"
   ]
  },
  {
   "cell_type": "markdown",
   "id": "03ba4f69-427f-4b9d-83b8-9e4c693a1aec",
   "metadata": {},
   "source": [
    "4. You will see a form like that below. Fill in these fields and press the Connect button at the bottom.\n",
    "    - **Profile name:** your name for the connection. This can be anything, but I recommend that you use the same name as the database.\n",
    "    - **Server name:** acc3323.database.windows.net\n",
    "    - **Authentication type:** SQL Login\n",
    "    - **User name:** student\n",
    "    - **Password:** I will provide this on Canvas and during class.\n",
    "    - **Save Password:** I recommend that you check this box.\n",
    "    - **Database name:** The name of the database. This must be spelled exactly.\n",
    "\n",
    "![Connection dialog](imgs/Connection_dialog.png)"
   ]
  },
  {
   "cell_type": "markdown",
   "id": "adfe7379-e0bf-482b-a141-04fc4484e706",
   "metadata": {},
   "source": [
    "If your connection is successful, there should be a green dot next to the connection name in the pane on the left."
   ]
  },
  {
   "cell_type": "markdown",
   "id": "c825eee0",
   "metadata": {},
   "source": [
    "## Reconnecting to a Database"
   ]
  },
  {
   "cell_type": "markdown",
   "id": "323c71ad",
   "metadata": {},
   "source": [
    "Once you have created and saved a connection to a database (as shown above), reconnecting is very simple.\n",
    "\n",
    "First, click on the SQL Server button in the left toolbar."
   ]
  },
  {
   "cell_type": "markdown",
   "id": "d628a37f",
   "metadata": {},
   "source": [
    "![SQL Server button](imgs/SQL_Server_button.png)"
   ]
  },
  {
   "cell_type": "markdown",
   "id": "88b9e9fb",
   "metadata": {},
   "source": [
    "Identify the database to which you will connect. It will have a red dot before its name. To the left of the red dot is a symbol that looks like a greater-than sign (>). Click that."
   ]
  },
  {
   "cell_type": "markdown",
   "id": "9a814311",
   "metadata": {},
   "source": [
    "![Reconnecting 1](imgs/Reconnect1.png)"
   ]
  },
  {
   "cell_type": "markdown",
   "id": "3223244c",
   "metadata": {},
   "source": [
    "When you click that >, VS Code will establish a connection to the database. You will then see a green dot next to the database name, as well as the following:"
   ]
  },
  {
   "cell_type": "markdown",
   "id": "2a7e991f",
   "metadata": {},
   "source": [
    "![Reconnecting 2](imgs/Reconnect2.png)"
   ]
  }
 ],
 "metadata": {
  "kernelspec": {
   "display_name": "Python 3 (ipykernel)",
   "language": "python",
   "name": "python3"
  },
  "language_info": {
   "codemirror_mode": {
    "name": "ipython",
    "version": 3
   },
   "file_extension": ".py",
   "mimetype": "text/x-python",
   "name": "python",
   "nbconvert_exporter": "python",
   "pygments_lexer": "ipython3",
   "version": "3.13.2"
  }
 },
 "nbformat": 4,
 "nbformat_minor": 5
}
