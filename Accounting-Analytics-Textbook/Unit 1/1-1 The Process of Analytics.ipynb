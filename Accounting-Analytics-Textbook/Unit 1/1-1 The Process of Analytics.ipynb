{
 "cells": [
  {
   "cell_type": "markdown",
   "id": "de3d8c37-1e8c-440d-8908-4cc413034c0e",
   "metadata": {},
   "source": [
    "# The Process of Analytics"
   ]
  },
  {
   "cell_type": "markdown",
   "id": "de552a76-8015-4298-bdd6-f19b64757fa8",
   "metadata": {},
   "source": [
    "Data analytics is the process of using data to gain insights into business decisions. This process is independent of software. In fact, we can learn this process with pencil and paper! In this chapter, you will learn how to reason through data analyses without using software. As you become more comfortable with this type of reasoning, you will apply it to writing SQL statements. Eventually, you will apply this reasoning process in Excel. Once you become adept at this process, you will find that you think before you act with data, and this will make you a powerful data analyst.\n",
    "\n",
    "Before we dive into some examples, let's talk briefly about computer programming. Programming involves the exact same type of reasoning that you need for data analytics."
   ]
  },
  {
   "cell_type": "markdown",
   "id": "f99ae190-89d1-463d-9892-90ac96cc5f6e",
   "metadata": {},
   "source": [
    "## What is Programming?"
   ]
  },
  {
   "cell_type": "markdown",
   "id": "4d257d56-3c58-43d1-a744-24ed1a588ed3",
   "metadata": {},
   "source": [
    "Computers are dumb. They can only do what they are instructed to do. Thus, we humans use programming languages to tell computers what to do. \n",
    "\n",
    "A computer program is simply a set of instructions for a computer. When you write a computer program, your code is translated into instructions that the computer can understand. Programs are written in a programming language. There are many programming languages out there and each is a different way of telling a computer what to do. Over the years, programmers have created different languages, each with its advantages and disadvantages, and as a result these languages tend to evolve for different use cases. For example, PHP and JavaScript are frequently used to create websites, while C++ is often used to create games. SQL was originally developed at IBM as a way to manipulate and retrieve data stored in a relational database.<sup>\\[1\\]</sup> It is now one of the most popular programming languages worldwide."
   ]
  },
  {
   "cell_type": "markdown",
   "id": "0b7419a9-99b8-4be6-b1d2-decb50ceeaff",
   "metadata": {},
   "source": [
    "### Similarities between programming and cooking"
   ]
  },
  {
   "cell_type": "markdown",
   "id": "dd1adfe6-2d1e-4860-a81b-00086c74fbca",
   "metadata": {},
   "source": [
    "A computer program is like a cooking recipe. A program is a set of steps that, when followed by a computer, performs an action that you desire. A recipe is a set of steps that, when followed, leads to a desired outcome (yummy food). Thus, programming and cooking recipes are similar in that they must be logically correct to achieve their objectives.\n",
    "\n",
    "As an example, here's a recipe for making whipped cream, courtesy of [this website](https://www.foodnetwork.com/recipes/alton-brown/whipped-cream-recipe-1957526):\n",
    "\n",
    "---\n",
    "\n",
    "1. Obtain a metal mixing bowl, a metal whisk, 1 cup of heavy whipping cream, and 2 tablespoons of sugar.\n",
    "\n",
    "2. Place a metal mixing bowl and metal whisk into the freezer for 10 minutes.\n",
    "\n",
    "3. Remove bowl and whisk from freezer and place on kitchen countertop.\n",
    "\n",
    "4. Add 2 tablespoons of sugar to the bowl.\n",
    "\n",
    "5. Add 1 cup of heavy whipping cream to the bowl.\n",
    "\n",
    "6. Whisk cream and sugar mixture until stiff peaks are visible.\n",
    "\n",
    "---\n",
    "\n",
    "If you begin with the correct ingredients (which are analogous to data!), and if you correctly follow the steps, you will have delicious whipped cream. If you can understand the above recipe, you can write a computer program. "
   ]
  },
  {
   "cell_type": "markdown",
   "id": "0a206453-7884-4aed-9dd8-3f0bd2d31051",
   "metadata": {},
   "source": [
    "## Programming and the Process of Analytics"
   ]
  },
  {
   "cell_type": "markdown",
   "id": "0d219302-fb71-4af0-be2d-d79f4520779a",
   "metadata": {},
   "source": [
    "When you are faced with a business problem and some data, you must think through the steps required to transform the data into insights. What steps must be taken? Will those steps work? Will those steps provide the analysis that you are looking for? Will those steps work for all possible data values? This is the sort of reasoning that you must perform when working with data."
   ]
  },
  {
   "cell_type": "markdown",
   "id": "383d4884-7702-44f6-a9b6-ed9fc10a1ada",
   "metadata": {},
   "source": [
    "### Thinking before you act: Excel vs. SQL"
   ]
  },
  {
   "cell_type": "markdown",
   "id": "0640f244-1c4f-41cb-a406-5f39e1b01a62",
   "metadata": {},
   "source": [
    "A computer program is just a way of writing down your steps. When you write a computer program, you must think before you act. This is not the case with Excel! In Excel, you can copy, paste, write formulas, autofill formulas, delete cells, undo your actions, and so on. You can do this through trial and error. Sometimes that is a good thing (the fancy term for it is \"exploratory data analysis\"). The problem is that, often, you will not be able to recall what you did! That means that you might not be able to reproduce your work (I have observed this with many students and faculty!). It also means that you cannot reason about whether your output in Excel is correct. \n",
    "\n",
    "By contrast, when you write a program in SQL, you can read it and reason about it. You can run it and reproduce the output. Importantly, if you write something incorrect, you will get an error. Thus, SQL will force a discipline on you. It will force you to learn how to think before you act with data."
   ]
  },
  {
   "cell_type": "markdown",
   "id": "cde525f4-ee2d-4d03-8a19-b5f08c15a11f",
   "metadata": {},
   "source": [
    "## Examples to Illustrate the Process of Data Analytics"
   ]
  },
  {
   "cell_type": "markdown",
   "id": "d27cddcd-8eb3-47fa-874c-7367c01063c7",
   "metadata": {},
   "source": [
    "I will now present three examples of data analyses. Each will begin with a description of a setting, and a question that needs to be answered. I will then describe the available data. I will then show a data analysis that answers the question, and discuss how I performed that analysis. When applicable, I will present a more efficient way of performing that analysis."
   ]
  },
  {
   "cell_type": "markdown",
   "id": "fa2cf0c1-32d6-48d7-b529-465bcd0dd1ff",
   "metadata": {},
   "source": [
    "### Example 1: Analyzing Cost of Living by State"
   ]
  },
  {
   "cell_type": "markdown",
   "id": "310e5dd2-4c77-40db-8c31-408db9a51377",
   "metadata": {},
   "source": [
    "Imagine that you are a senior in college and are searching for a job. You are open to living anywhere in the country, but decide to do some research on cost of living. You want to do this early in your search so that you can evaluate job offers. Say that you get competing job offers from companies in Florida and Texas. If you know the cost of living in those states, you can evaluate the attractiveness of the offers. If the salaries are similar, but one state has a higher cost of living, you might be worse off financially in the high-cost state.\n",
    "\n",
    "You find a dataset that provides information on the cost of living by state.<sup>\\[2\\]</sup> It turns out that measuring the cost of living is not as simple as you thought. The dataset provides an overall number (in the column *Index*, but also provides data on food, housing, utility, transportation, and health costs.\n",
    "\n",
    "Let's dive in and do some analyses that illustrate the process of data analytics."
   ]
  },
  {
   "cell_type": "code",
   "execution_count": 1,
   "id": "49f3aecd-97c0-435e-bf68-9414c00168c3",
   "metadata": {
    "editable": true,
    "slideshow": {
     "slide_type": ""
    },
    "tags": [
     "remove-cell"
    ]
   },
   "outputs": [],
   "source": [
    "from IPython.display import display, HTML\n",
    "import pandas as pd"
   ]
  },
  {
   "cell_type": "code",
   "execution_count": 2,
   "id": "ae62c478-7e93-496c-b154-7187cb5476e8",
   "metadata": {
    "editable": true,
    "slideshow": {
     "slide_type": ""
    },
    "tags": [
     "remove-cell"
    ]
   },
   "outputs": [],
   "source": [
    "def DisplayDF(df, scrollbar=False):\n",
    "    html_table = df.to_html(index=False)\n",
    "    \n",
    "    if scrollbar:\n",
    "        scrollable_html = f\"<div style='height: 250px; overflow: auto; width: fit-content;'>{html_table}</div>\"    \n",
    "        display(HTML(scrollable_html))\n",
    "    else:\n",
    "        display(HTML(html_table))"
   ]
  },
  {
   "cell_type": "code",
   "execution_count": 3,
   "id": "394d5b2a-3b1c-49c2-9b54-f320317e1c71",
   "metadata": {
    "editable": true,
    "slideshow": {
     "slide_type": ""
    },
    "tags": [
     "remove-cell"
    ]
   },
   "outputs": [],
   "source": [
    "df = pd.read_excel('data/CostOfLivingByState 2025.xlsx', sheet_name='Sheet1')\n",
    "df.drop(columns='Rank', inplace=True)\n",
    "df['State'] = df['State'].str.strip()"
   ]
  },
  {
   "cell_type": "markdown",
   "id": "5f5ccd06-e9cb-452f-8c33-3b1602ee70f2",
   "metadata": {},
   "source": [
    "#### Understanding the data"
   ]
  },
  {
   "cell_type": "markdown",
   "id": "b02fe71d-f12f-4155-a6fe-4cd6f395f7f2",
   "metadata": {},
   "source": [
    "Before we can do any analysis, we need to understand the data. Let's begin by looking at data for two states, Texas and Florida."
   ]
  },
  {
   "cell_type": "code",
   "execution_count": 4,
   "id": "9839e749-7905-4751-950b-157013b1000e",
   "metadata": {
    "editable": true,
    "slideshow": {
     "slide_type": ""
    },
    "tags": [
     "remove-input"
    ]
   },
   "outputs": [
    {
     "data": {
      "text/html": [
       "<table border=\"1\" class=\"dataframe\">\n",
       "  <thead>\n",
       "    <tr style=\"text-align: right;\">\n",
       "      <th>State</th>\n",
       "      <th>Index</th>\n",
       "      <th>Grocery</th>\n",
       "      <th>Housing</th>\n",
       "      <th>Utilities</th>\n",
       "      <th>Transportation</th>\n",
       "      <th>Health</th>\n",
       "      <th>Misc.</th>\n",
       "    </tr>\n",
       "  </thead>\n",
       "  <tbody>\n",
       "    <tr>\n",
       "      <td>Texas</td>\n",
       "      <td>91.8</td>\n",
       "      <td>95.8</td>\n",
       "      <td>80.0</td>\n",
       "      <td>103.3</td>\n",
       "      <td>92.1</td>\n",
       "      <td>98.5</td>\n",
       "      <td>96.1</td>\n",
       "    </tr>\n",
       "    <tr>\n",
       "      <td>Florida</td>\n",
       "      <td>102.0</td>\n",
       "      <td>105.1</td>\n",
       "      <td>106.0</td>\n",
       "      <td>99.3</td>\n",
       "      <td>101.2</td>\n",
       "      <td>90.3</td>\n",
       "      <td>99.9</td>\n",
       "    </tr>\n",
       "  </tbody>\n",
       "</table>"
      ],
      "text/plain": [
       "<IPython.core.display.HTML object>"
      ]
     },
     "metadata": {},
     "output_type": "display_data"
    }
   ],
   "source": [
    "DisplayDF(df[df['State'].isin(['Texas', 'Florida'])])"
   ]
  },
  {
   "cell_type": "markdown",
   "id": "5305e6bc-e618-41ce-a7dd-cfd726db0ae5",
   "metadata": {},
   "source": [
    "There is one row for each state. Each row contains a set of numbers, one for grocery costs, one for housing costs, etc. There's also an overall number in the column *Index*, which is a weighted average of the other numbers. \n",
    "\n",
    "Each number is normalized. That means that a state whose cost is average gets a value of 100. If a state has a number less than 100, its cost is lower than average. If a state has a number greater than 100, its cost is greater than average."
   ]
  },
  {
   "cell_type": "markdown",
   "id": "eeade144-0746-4405-8c61-6e312980a5eb",
   "metadata": {},
   "source": [
    "#### Which of two states has the higher food costs?"
   ]
  },
  {
   "cell_type": "markdown",
   "id": "a5b38872-d948-47e6-bd02-26f6b462ef83",
   "metadata": {},
   "source": [
    "**QUESTION:** You decide to focus on two states initially, Texas and Florida. Using data from the table above, determine which state has the higher food costs."
   ]
  },
  {
   "cell_type": "markdown",
   "id": "ddb5c0f1-8716-4a99-a046-4bdbd7c4a8a4",
   "metadata": {},
   "source": [
    "**ANSWER:** Obviously, Florida has higher grocery costs. Its value is 105.1, while Texas's is 95.8."
   ]
  },
  {
   "cell_type": "markdown",
   "id": "10811761-4bec-4841-8ee3-7f6351c19333",
   "metadata": {},
   "source": [
    "**HOW DID I DETERMINE THAT?** I just looked at the two numbers and compared them. I did not really think about it."
   ]
  },
  {
   "cell_type": "markdown",
   "id": "f507ac7d-17e9-4262-9d20-fe765d6ebd84",
   "metadata": {},
   "source": [
    "#### Which state has the highest food costs?"
   ]
  },
  {
   "cell_type": "markdown",
   "id": "1c39e446-332f-41ef-a3fe-2ebe7a03095f",
   "metadata": {},
   "source": [
    "You want to extend your analysis to all 50 states. Here is the data:"
   ]
  },
  {
   "cell_type": "code",
   "execution_count": 5,
   "id": "4eb87dc5-4acf-4099-b03b-b023d27bd092",
   "metadata": {
    "editable": true,
    "slideshow": {
     "slide_type": ""
    },
    "tags": [
     "remove-input"
    ]
   },
   "outputs": [
    {
     "data": {
      "text/html": [
       "<div style='height: 250px; overflow: auto; width: fit-content;'><table border=\"1\" class=\"dataframe\">\n",
       "  <thead>\n",
       "    <tr style=\"text-align: right;\">\n",
       "      <th>State</th>\n",
       "      <th>Index</th>\n",
       "      <th>Grocery</th>\n",
       "      <th>Housing</th>\n",
       "      <th>Utilities</th>\n",
       "      <th>Transportation</th>\n",
       "      <th>Health</th>\n",
       "      <th>Misc.</th>\n",
       "    </tr>\n",
       "  </thead>\n",
       "  <tbody>\n",
       "    <tr>\n",
       "      <td>Wisconsin</td>\n",
       "      <td>99.5</td>\n",
       "      <td>99.6</td>\n",
       "      <td>99.7</td>\n",
       "      <td>92.4</td>\n",
       "      <td>99.7</td>\n",
       "      <td>102.5</td>\n",
       "      <td>100.6</td>\n",
       "    </tr>\n",
       "    <tr>\n",
       "      <td>Rhode Island</td>\n",
       "      <td>109.3</td>\n",
       "      <td>99.0</td>\n",
       "      <td>111.1</td>\n",
       "      <td>137.5</td>\n",
       "      <td>96.7</td>\n",
       "      <td>100.4</td>\n",
       "      <td>110.0</td>\n",
       "    </tr>\n",
       "    <tr>\n",
       "      <td>South Dakota</td>\n",
       "      <td>97.3</td>\n",
       "      <td>103.4</td>\n",
       "      <td>94.9</td>\n",
       "      <td>87.5</td>\n",
       "      <td>100.2</td>\n",
       "      <td>104.9</td>\n",
       "      <td>97.1</td>\n",
       "    </tr>\n",
       "    <tr>\n",
       "      <td>Wyoming</td>\n",
       "      <td>97.0</td>\n",
       "      <td>101.9</td>\n",
       "      <td>91.2</td>\n",
       "      <td>90.3</td>\n",
       "      <td>91.8</td>\n",
       "      <td>97.9</td>\n",
       "      <td>102.6</td>\n",
       "    </tr>\n",
       "    <tr>\n",
       "      <td>Arkansas</td>\n",
       "      <td>90.5</td>\n",
       "      <td>95.1</td>\n",
       "      <td>79.2</td>\n",
       "      <td>92.2</td>\n",
       "      <td>92.4</td>\n",
       "      <td>85.4</td>\n",
       "      <td>97.6</td>\n",
       "    </tr>\n",
       "    <tr>\n",
       "      <td>Idaho</td>\n",
       "      <td>102.0</td>\n",
       "      <td>104.4</td>\n",
       "      <td>100.2</td>\n",
       "      <td>73.9</td>\n",
       "      <td>105.3</td>\n",
       "      <td>102.8</td>\n",
       "      <td>108.3</td>\n",
       "    </tr>\n",
       "    <tr>\n",
       "      <td>Indiana</td>\n",
       "      <td>90.8</td>\n",
       "      <td>98.0</td>\n",
       "      <td>76.0</td>\n",
       "      <td>94.2</td>\n",
       "      <td>99.4</td>\n",
       "      <td>95.2</td>\n",
       "      <td>96.1</td>\n",
       "    </tr>\n",
       "    <tr>\n",
       "      <td>Missouri</td>\n",
       "      <td>88.0</td>\n",
       "      <td>96.7</td>\n",
       "      <td>74.8</td>\n",
       "      <td>97.5</td>\n",
       "      <td>87.2</td>\n",
       "      <td>91.0</td>\n",
       "      <td>92.5</td>\n",
       "    </tr>\n",
       "    <tr>\n",
       "      <td>Vermont</td>\n",
       "      <td>113.7</td>\n",
       "      <td>106.4</td>\n",
       "      <td>130.7</td>\n",
       "      <td>114.5</td>\n",
       "      <td>101.2</td>\n",
       "      <td>113.0</td>\n",
       "      <td>106.1</td>\n",
       "    </tr>\n",
       "    <tr>\n",
       "      <td>Colorado</td>\n",
       "      <td>104.0</td>\n",
       "      <td>102.6</td>\n",
       "      <td>111.4</td>\n",
       "      <td>88.3</td>\n",
       "      <td>98.1</td>\n",
       "      <td>109.1</td>\n",
       "      <td>103.2</td>\n",
       "    </tr>\n",
       "    <tr>\n",
       "      <td>New Hampshire</td>\n",
       "      <td>110.1</td>\n",
       "      <td>98.8</td>\n",
       "      <td>116.2</td>\n",
       "      <td>120.7</td>\n",
       "      <td>103.0</td>\n",
       "      <td>106.2</td>\n",
       "      <td>109.9</td>\n",
       "    </tr>\n",
       "    <tr>\n",
       "      <td>Kansas</td>\n",
       "      <td>89.7</td>\n",
       "      <td>96.5</td>\n",
       "      <td>75.6</td>\n",
       "      <td>100.4</td>\n",
       "      <td>90.2</td>\n",
       "      <td>102.1</td>\n",
       "      <td>93.9</td>\n",
       "    </tr>\n",
       "    <tr>\n",
       "      <td>Texas</td>\n",
       "      <td>91.8</td>\n",
       "      <td>95.8</td>\n",
       "      <td>80.0</td>\n",
       "      <td>103.3</td>\n",
       "      <td>92.1</td>\n",
       "      <td>98.5</td>\n",
       "      <td>96.1</td>\n",
       "    </tr>\n",
       "    <tr>\n",
       "      <td>Minnesota</td>\n",
       "      <td>93.7</td>\n",
       "      <td>100.7</td>\n",
       "      <td>79.8</td>\n",
       "      <td>95.4</td>\n",
       "      <td>96.1</td>\n",
       "      <td>103.1</td>\n",
       "      <td>99.8</td>\n",
       "    </tr>\n",
       "    <tr>\n",
       "      <td>Utah</td>\n",
       "      <td>100.5</td>\n",
       "      <td>98.1</td>\n",
       "      <td>110.8</td>\n",
       "      <td>84.4</td>\n",
       "      <td>102.1</td>\n",
       "      <td>89.8</td>\n",
       "      <td>98.1</td>\n",
       "    </tr>\n",
       "    <tr>\n",
       "      <td>Montana</td>\n",
       "      <td>96.4</td>\n",
       "      <td>104.5</td>\n",
       "      <td>92.4</td>\n",
       "      <td>80.4</td>\n",
       "      <td>98.5</td>\n",
       "      <td>105.3</td>\n",
       "      <td>98.3</td>\n",
       "    </tr>\n",
       "    <tr>\n",
       "      <td>Washington</td>\n",
       "      <td>112.0</td>\n",
       "      <td>108.2</td>\n",
       "      <td>116.8</td>\n",
       "      <td>96.7</td>\n",
       "      <td>122.4</td>\n",
       "      <td>113.0</td>\n",
       "      <td>110.7</td>\n",
       "    </tr>\n",
       "    <tr>\n",
       "      <td>Maryland</td>\n",
       "      <td>114.9</td>\n",
       "      <td>105.1</td>\n",
       "      <td>133.8</td>\n",
       "      <td>114.4</td>\n",
       "      <td>103.6</td>\n",
       "      <td>105.4</td>\n",
       "      <td>107.9</td>\n",
       "    </tr>\n",
       "    <tr>\n",
       "      <td>California</td>\n",
       "      <td>141.6</td>\n",
       "      <td>108.8</td>\n",
       "      <td>197.8</td>\n",
       "      <td>140.7</td>\n",
       "      <td>138.7</td>\n",
       "      <td>105.4</td>\n",
       "      <td>115.8</td>\n",
       "    </tr>\n",
       "    <tr>\n",
       "      <td>Oklahoma</td>\n",
       "      <td>85.5</td>\n",
       "      <td>95.7</td>\n",
       "      <td>70.5</td>\n",
       "      <td>94.7</td>\n",
       "      <td>86.7</td>\n",
       "      <td>94.6</td>\n",
       "      <td>89.5</td>\n",
       "    </tr>\n",
       "    <tr>\n",
       "      <td>Florida</td>\n",
       "      <td>102.0</td>\n",
       "      <td>105.1</td>\n",
       "      <td>106.0</td>\n",
       "      <td>99.3</td>\n",
       "      <td>101.2</td>\n",
       "      <td>90.3</td>\n",
       "      <td>99.9</td>\n",
       "    </tr>\n",
       "    <tr>\n",
       "      <td>District of Columbia</td>\n",
       "      <td>135.2</td>\n",
       "      <td>104.5</td>\n",
       "      <td>200.8</td>\n",
       "      <td>102.5</td>\n",
       "      <td>108.0</td>\n",
       "      <td>123.6</td>\n",
       "      <td>111.3</td>\n",
       "    </tr>\n",
       "    <tr>\n",
       "      <td>Alabama</td>\n",
       "      <td>87.6</td>\n",
       "      <td>97.6</td>\n",
       "      <td>69.1</td>\n",
       "      <td>98.8</td>\n",
       "      <td>91.9</td>\n",
       "      <td>90.7</td>\n",
       "      <td>94.2</td>\n",
       "    </tr>\n",
       "    <tr>\n",
       "      <td>Nebraska</td>\n",
       "      <td>92.4</td>\n",
       "      <td>98.9</td>\n",
       "      <td>78.6</td>\n",
       "      <td>90.0</td>\n",
       "      <td>95.0</td>\n",
       "      <td>97.3</td>\n",
       "      <td>100.2</td>\n",
       "    </tr>\n",
       "    <tr>\n",
       "      <td>Alaska</td>\n",
       "      <td>127.3</td>\n",
       "      <td>130.3</td>\n",
       "      <td>131.2</td>\n",
       "      <td>132.1</td>\n",
       "      <td>115.3</td>\n",
       "      <td>142.1</td>\n",
       "      <td>122.7</td>\n",
       "    </tr>\n",
       "    <tr>\n",
       "      <td>Arizona</td>\n",
       "      <td>112.5</td>\n",
       "      <td>102.5</td>\n",
       "      <td>134.8</td>\n",
       "      <td>106.4</td>\n",
       "      <td>104.5</td>\n",
       "      <td>90.8</td>\n",
       "      <td>105.0</td>\n",
       "    </tr>\n",
       "    <tr>\n",
       "      <td>Hawaii</td>\n",
       "      <td>182.3</td>\n",
       "      <td>134.6</td>\n",
       "      <td>292.1</td>\n",
       "      <td>207.0</td>\n",
       "      <td>143.1</td>\n",
       "      <td>125.9</td>\n",
       "      <td>124.7</td>\n",
       "    </tr>\n",
       "    <tr>\n",
       "      <td>Michigan</td>\n",
       "      <td>89.8</td>\n",
       "      <td>98.9</td>\n",
       "      <td>73.9</td>\n",
       "      <td>97.4</td>\n",
       "      <td>100.6</td>\n",
       "      <td>88.4</td>\n",
       "      <td>94.3</td>\n",
       "    </tr>\n",
       "    <tr>\n",
       "      <td>Iowa</td>\n",
       "      <td>89.6</td>\n",
       "      <td>95.7</td>\n",
       "      <td>77.7</td>\n",
       "      <td>89.5</td>\n",
       "      <td>95.5</td>\n",
       "      <td>96.0</td>\n",
       "      <td>94.3</td>\n",
       "    </tr>\n",
       "    <tr>\n",
       "      <td>Illinois</td>\n",
       "      <td>94.7</td>\n",
       "      <td>98.5</td>\n",
       "      <td>84.8</td>\n",
       "      <td>97.3</td>\n",
       "      <td>100.0</td>\n",
       "      <td>102.3</td>\n",
       "      <td>98.1</td>\n",
       "    </tr>\n",
       "    <tr>\n",
       "      <td>Oregon</td>\n",
       "      <td>112.7</td>\n",
       "      <td>105.1</td>\n",
       "      <td>131.2</td>\n",
       "      <td>94.7</td>\n",
       "      <td>114.7</td>\n",
       "      <td>122.2</td>\n",
       "      <td>103.3</td>\n",
       "    </tr>\n",
       "    <tr>\n",
       "      <td>Massachusetts</td>\n",
       "      <td>145.1</td>\n",
       "      <td>102.7</td>\n",
       "      <td>215.0</td>\n",
       "      <td>158.9</td>\n",
       "      <td>103.0</td>\n",
       "      <td>139.0</td>\n",
       "      <td>114.6</td>\n",
       "    </tr>\n",
       "    <tr>\n",
       "      <td>Tennessee</td>\n",
       "      <td>90.0</td>\n",
       "      <td>96.7</td>\n",
       "      <td>81.5</td>\n",
       "      <td>87.9</td>\n",
       "      <td>89.3</td>\n",
       "      <td>85.9</td>\n",
       "      <td>95.4</td>\n",
       "    </tr>\n",
       "    <tr>\n",
       "      <td>North Carolina</td>\n",
       "      <td>97.8</td>\n",
       "      <td>97.7</td>\n",
       "      <td>94.9</td>\n",
       "      <td>94.7</td>\n",
       "      <td>92.9</td>\n",
       "      <td>110.8</td>\n",
       "      <td>100.4</td>\n",
       "    </tr>\n",
       "    <tr>\n",
       "      <td>Connecticut</td>\n",
       "      <td>113.5</td>\n",
       "      <td>101.5</td>\n",
       "      <td>120.6</td>\n",
       "      <td>137.6</td>\n",
       "      <td>103.1</td>\n",
       "      <td>112.6</td>\n",
       "      <td>109.9</td>\n",
       "    </tr>\n",
       "    <tr>\n",
       "      <td>Louisiana</td>\n",
       "      <td>93.2</td>\n",
       "      <td>96.7</td>\n",
       "      <td>84.0</td>\n",
       "      <td>81.4</td>\n",
       "      <td>97.7</td>\n",
       "      <td>95.6</td>\n",
       "      <td>100.5</td>\n",
       "    </tr>\n",
       "    <tr>\n",
       "      <td>Puerto Rico</td>\n",
       "      <td>103.4</td>\n",
       "      <td>112.4</td>\n",
       "      <td>97.5</td>\n",
       "      <td>170.7</td>\n",
       "      <td>106.4</td>\n",
       "      <td>69.5</td>\n",
       "      <td>91.8</td>\n",
       "    </tr>\n",
       "    <tr>\n",
       "      <td>New Mexico</td>\n",
       "      <td>94.2</td>\n",
       "      <td>97.9</td>\n",
       "      <td>90.2</td>\n",
       "      <td>84.1</td>\n",
       "      <td>92.5</td>\n",
       "      <td>109.3</td>\n",
       "      <td>96.6</td>\n",
       "    </tr>\n",
       "    <tr>\n",
       "      <td>Virginia</td>\n",
       "      <td>101.4</td>\n",
       "      <td>98.9</td>\n",
       "      <td>105.2</td>\n",
       "      <td>98.4</td>\n",
       "      <td>94.7</td>\n",
       "      <td>107.6</td>\n",
       "      <td>101.0</td>\n",
       "    </tr>\n",
       "    <tr>\n",
       "      <td>Ohio</td>\n",
       "      <td>95.1</td>\n",
       "      <td>99.6</td>\n",
       "      <td>86.7</td>\n",
       "      <td>97.1</td>\n",
       "      <td>99.9</td>\n",
       "      <td>99.4</td>\n",
       "      <td>97.7</td>\n",
       "    </tr>\n",
       "    <tr>\n",
       "      <td>Delaware</td>\n",
       "      <td>103.5</td>\n",
       "      <td>100.1</td>\n",
       "      <td>101.4</td>\n",
       "      <td>99.4</td>\n",
       "      <td>100.0</td>\n",
       "      <td>106.7</td>\n",
       "      <td>108.2</td>\n",
       "    </tr>\n",
       "    <tr>\n",
       "      <td>Maine</td>\n",
       "      <td>113.4</td>\n",
       "      <td>100.3</td>\n",
       "      <td>133.2</td>\n",
       "      <td>119.8</td>\n",
       "      <td>104.3</td>\n",
       "      <td>117.4</td>\n",
       "      <td>103.1</td>\n",
       "    </tr>\n",
       "    <tr>\n",
       "      <td>North Dakota</td>\n",
       "      <td>90.8</td>\n",
       "      <td>97.2</td>\n",
       "      <td>76.9</td>\n",
       "      <td>84.6</td>\n",
       "      <td>97.6</td>\n",
       "      <td>109.3</td>\n",
       "      <td>96.6</td>\n",
       "    </tr>\n",
       "    <tr>\n",
       "      <td>South Carolina</td>\n",
       "      <td>94.6</td>\n",
       "      <td>98.9</td>\n",
       "      <td>84.9</td>\n",
       "      <td>96.3</td>\n",
       "      <td>96.1</td>\n",
       "      <td>95.0</td>\n",
       "      <td>99.7</td>\n",
       "    </tr>\n",
       "    <tr>\n",
       "      <td>New Jersey</td>\n",
       "      <td>114.8</td>\n",
       "      <td>102.6</td>\n",
       "      <td>143.3</td>\n",
       "      <td>102.1</td>\n",
       "      <td>101.4</td>\n",
       "      <td>109.2</td>\n",
       "      <td>104.2</td>\n",
       "    </tr>\n",
       "    <tr>\n",
       "      <td>Georgia</td>\n",
       "      <td>91.7</td>\n",
       "      <td>97.7</td>\n",
       "      <td>79.7</td>\n",
       "      <td>102.6</td>\n",
       "      <td>97.6</td>\n",
       "      <td>94.8</td>\n",
       "      <td>94.5</td>\n",
       "    </tr>\n",
       "    <tr>\n",
       "      <td>West Virginia</td>\n",
       "      <td>88.6</td>\n",
       "      <td>96.7</td>\n",
       "      <td>71.6</td>\n",
       "      <td>92.2</td>\n",
       "      <td>96.0</td>\n",
       "      <td>94.4</td>\n",
       "      <td>95.4</td>\n",
       "    </tr>\n",
       "    <tr>\n",
       "      <td>U.S.</td>\n",
       "      <td>100.0</td>\n",
       "      <td>100.0</td>\n",
       "      <td>100.0</td>\n",
       "      <td>100.0</td>\n",
       "      <td>100.0</td>\n",
       "      <td>100.0</td>\n",
       "      <td>100.0</td>\n",
       "    </tr>\n",
       "    <tr>\n",
       "      <td>Nevada</td>\n",
       "      <td>99.5</td>\n",
       "      <td>102.9</td>\n",
       "      <td>111.3</td>\n",
       "      <td>88.7</td>\n",
       "      <td>114.4</td>\n",
       "      <td>85.2</td>\n",
       "      <td>89.2</td>\n",
       "    </tr>\n",
       "    <tr>\n",
       "      <td>Pennsylvania</td>\n",
       "      <td>97.5</td>\n",
       "      <td>97.4</td>\n",
       "      <td>86.8</td>\n",
       "      <td>108.5</td>\n",
       "      <td>104.5</td>\n",
       "      <td>93.7</td>\n",
       "      <td>102.5</td>\n",
       "    </tr>\n",
       "    <tr>\n",
       "      <td>Mississippi</td>\n",
       "      <td>87.3</td>\n",
       "      <td>95.9</td>\n",
       "      <td>72.5</td>\n",
       "      <td>89.7</td>\n",
       "      <td>89.5</td>\n",
       "      <td>95.7</td>\n",
       "      <td>93.2</td>\n",
       "    </tr>\n",
       "    <tr>\n",
       "      <td>New York</td>\n",
       "      <td>124.7</td>\n",
       "      <td>104.1</td>\n",
       "      <td>174.2</td>\n",
       "      <td>100.2</td>\n",
       "      <td>108.7</td>\n",
       "      <td>110.5</td>\n",
       "      <td>105.1</td>\n",
       "    </tr>\n",
       "    <tr>\n",
       "      <td>Kentucky</td>\n",
       "      <td>91.7</td>\n",
       "      <td>99.7</td>\n",
       "      <td>75.0</td>\n",
       "      <td>87.3</td>\n",
       "      <td>95.2</td>\n",
       "      <td>93.3</td>\n",
       "      <td>101.9</td>\n",
       "    </tr>\n",
       "  </tbody>\n",
       "</table></div>"
      ],
      "text/plain": [
       "<IPython.core.display.HTML object>"
      ]
     },
     "metadata": {},
     "output_type": "display_data"
    }
   ],
   "source": [
    "DisplayDF(df, scrollbar=True)"
   ]
  },
  {
   "cell_type": "markdown",
   "id": "cc65b24c-4fe4-4933-827d-8ecb96cbe764",
   "metadata": {},
   "source": [
    "**QUESTION:** Which state has the highest grocery costs?"
   ]
  },
  {
   "cell_type": "markdown",
   "id": "67183612-c9f8-4c75-a34c-96fc9866a426",
   "metadata": {},
   "source": [
    "**ANSWER:** Hawaii has the highest grocery costs, with a value of 134.6. This makes sense as Hawaii is an island so much of its food must be imported by boat or by plane."
   ]
  },
  {
   "cell_type": "markdown",
   "id": "42fbbbc5-3e2e-45ba-a10d-24668251ada9",
   "metadata": {},
   "source": [
    "**HOW DID I DETERMINE THAT?** This was difficult. I had to scroll through all rows of the dataset and keep the highest number I had seen so far in my head."
   ]
  },
  {
   "cell_type": "markdown",
   "id": "1114b271-c1cb-4d5d-adcd-33569793a94b",
   "metadata": {},
   "source": [
    "**IS THERE A BETTER WAY?** Yes. If we *__sort__* the data, we can easily see which state has the highest grocery costs. Here are the top 5 rows from the sorted list."
   ]
  },
  {
   "cell_type": "code",
   "execution_count": 6,
   "id": "1d28cead-a863-48bf-bbf3-e10933291712",
   "metadata": {
    "editable": true,
    "slideshow": {
     "slide_type": ""
    },
    "tags": [
     "remove-input"
    ]
   },
   "outputs": [
    {
     "data": {
      "text/html": [
       "<table border=\"1\" class=\"dataframe\">\n",
       "  <thead>\n",
       "    <tr style=\"text-align: right;\">\n",
       "      <th>State</th>\n",
       "      <th>Index</th>\n",
       "      <th>Grocery</th>\n",
       "      <th>Housing</th>\n",
       "      <th>Utilities</th>\n",
       "      <th>Transportation</th>\n",
       "      <th>Health</th>\n",
       "      <th>Misc.</th>\n",
       "    </tr>\n",
       "  </thead>\n",
       "  <tbody>\n",
       "    <tr>\n",
       "      <td>Hawaii</td>\n",
       "      <td>182.3</td>\n",
       "      <td>134.6</td>\n",
       "      <td>292.1</td>\n",
       "      <td>207.0</td>\n",
       "      <td>143.1</td>\n",
       "      <td>125.9</td>\n",
       "      <td>124.7</td>\n",
       "    </tr>\n",
       "    <tr>\n",
       "      <td>Alaska</td>\n",
       "      <td>127.3</td>\n",
       "      <td>130.3</td>\n",
       "      <td>131.2</td>\n",
       "      <td>132.1</td>\n",
       "      <td>115.3</td>\n",
       "      <td>142.1</td>\n",
       "      <td>122.7</td>\n",
       "    </tr>\n",
       "    <tr>\n",
       "      <td>Puerto Rico</td>\n",
       "      <td>103.4</td>\n",
       "      <td>112.4</td>\n",
       "      <td>97.5</td>\n",
       "      <td>170.7</td>\n",
       "      <td>106.4</td>\n",
       "      <td>69.5</td>\n",
       "      <td>91.8</td>\n",
       "    </tr>\n",
       "    <tr>\n",
       "      <td>California</td>\n",
       "      <td>141.6</td>\n",
       "      <td>108.8</td>\n",
       "      <td>197.8</td>\n",
       "      <td>140.7</td>\n",
       "      <td>138.7</td>\n",
       "      <td>105.4</td>\n",
       "      <td>115.8</td>\n",
       "    </tr>\n",
       "    <tr>\n",
       "      <td>Washington</td>\n",
       "      <td>112.0</td>\n",
       "      <td>108.2</td>\n",
       "      <td>116.8</td>\n",
       "      <td>96.7</td>\n",
       "      <td>122.4</td>\n",
       "      <td>113.0</td>\n",
       "      <td>110.7</td>\n",
       "    </tr>\n",
       "  </tbody>\n",
       "</table>"
      ],
      "text/plain": [
       "<IPython.core.display.HTML object>"
      ]
     },
     "metadata": {},
     "output_type": "display_data"
    }
   ],
   "source": [
    "DisplayDF(df.sort_values('Grocery', ascending=False).head())"
   ]
  },
  {
   "cell_type": "markdown",
   "id": "78b17e24-da72-4eb3-b787-91188f827c71",
   "metadata": {},
   "source": [
    "**TAKEAWAY:** This is your first lesson! If you think about what you want to do with your data, there is usually a natural, and efficient, way to compute it.\n",
    "\n",
    "In this case, we sorted the data by grocery costs and then looked at the top row."
   ]
  },
  {
   "cell_type": "markdown",
   "id": "13a2bc57-32da-471a-8743-6633748f7634",
   "metadata": {},
   "source": [
    "#### Which state has the lowest food costs?"
   ]
  },
  {
   "cell_type": "markdown",
   "id": "d48657a9-a87d-4e25-b72e-18209f89a065",
   "metadata": {},
   "source": [
    "Armed with what we just learned, this is now an easy question to answer. We will simply sort the data. However, this time, we will sort a different way. We will sort so that the lowest value appears at the top.\n",
    "\n",
    "Here are the 5 states with the *lowest* grocery costs:"
   ]
  },
  {
   "cell_type": "code",
   "execution_count": 7,
   "id": "28146c2d-8a1c-46e9-b54d-cd66a46b8525",
   "metadata": {
    "editable": true,
    "slideshow": {
     "slide_type": ""
    },
    "tags": [
     "remove-input"
    ]
   },
   "outputs": [
    {
     "data": {
      "text/html": [
       "<table border=\"1\" class=\"dataframe\">\n",
       "  <thead>\n",
       "    <tr style=\"text-align: right;\">\n",
       "      <th>State</th>\n",
       "      <th>Index</th>\n",
       "      <th>Grocery</th>\n",
       "      <th>Housing</th>\n",
       "      <th>Utilities</th>\n",
       "      <th>Transportation</th>\n",
       "      <th>Health</th>\n",
       "      <th>Misc.</th>\n",
       "    </tr>\n",
       "  </thead>\n",
       "  <tbody>\n",
       "    <tr>\n",
       "      <td>Arkansas</td>\n",
       "      <td>90.5</td>\n",
       "      <td>95.1</td>\n",
       "      <td>79.2</td>\n",
       "      <td>92.2</td>\n",
       "      <td>92.4</td>\n",
       "      <td>85.4</td>\n",
       "      <td>97.6</td>\n",
       "    </tr>\n",
       "    <tr>\n",
       "      <td>Oklahoma</td>\n",
       "      <td>85.5</td>\n",
       "      <td>95.7</td>\n",
       "      <td>70.5</td>\n",
       "      <td>94.7</td>\n",
       "      <td>86.7</td>\n",
       "      <td>94.6</td>\n",
       "      <td>89.5</td>\n",
       "    </tr>\n",
       "    <tr>\n",
       "      <td>Iowa</td>\n",
       "      <td>89.6</td>\n",
       "      <td>95.7</td>\n",
       "      <td>77.7</td>\n",
       "      <td>89.5</td>\n",
       "      <td>95.5</td>\n",
       "      <td>96.0</td>\n",
       "      <td>94.3</td>\n",
       "    </tr>\n",
       "    <tr>\n",
       "      <td>Texas</td>\n",
       "      <td>91.8</td>\n",
       "      <td>95.8</td>\n",
       "      <td>80.0</td>\n",
       "      <td>103.3</td>\n",
       "      <td>92.1</td>\n",
       "      <td>98.5</td>\n",
       "      <td>96.1</td>\n",
       "    </tr>\n",
       "    <tr>\n",
       "      <td>Mississippi</td>\n",
       "      <td>87.3</td>\n",
       "      <td>95.9</td>\n",
       "      <td>72.5</td>\n",
       "      <td>89.7</td>\n",
       "      <td>89.5</td>\n",
       "      <td>95.7</td>\n",
       "      <td>93.2</td>\n",
       "    </tr>\n",
       "  </tbody>\n",
       "</table>"
      ],
      "text/plain": [
       "<IPython.core.display.HTML object>"
      ]
     },
     "metadata": {},
     "output_type": "display_data"
    }
   ],
   "source": [
    "DisplayDF(df.sort_values('Grocery').head())"
   ]
  },
  {
   "cell_type": "markdown",
   "id": "ea7ee404-aba0-4f5a-b956-45740bfe8ebd",
   "metadata": {},
   "source": [
    "From this, we learn that Arkansas has the lowest food costs."
   ]
  },
  {
   "cell_type": "markdown",
   "id": "862ddeab-3ec1-46f1-94e3-4f7c6c7860d3",
   "metadata": {},
   "source": [
    "#### Which state has the lowest overall cost of living? Which has the highest?"
   ]
  },
  {
   "cell_type": "markdown",
   "id": "a191b13d-045c-4e0e-9424-e4e4b3ff10ca",
   "metadata": {},
   "source": [
    "If you sort by the *Index* column, you will see that Oklahoma has the lowest overall cost of living, and Hawaii has the highest."
   ]
  },
  {
   "cell_type": "markdown",
   "id": "2053e110-3177-43bf-b1f1-8ec6c61fc1c5",
   "metadata": {},
   "source": [
    "#### I only care about the \"Lower 48\" and DC. Can I repeat the analysis for just those?"
   ]
  },
  {
   "cell_type": "markdown",
   "id": "5dd32889-80d6-4773-8ae8-59bdc6acc45e",
   "metadata": {},
   "source": [
    "You think about it and decide that there is a very low chance that you will move to Alaska, Hawaii, or Puerto Rico. You decide that you want to exclude those from your analysis. You want to know, of the remaining states, which have the highest and lowest food costs, and which have the highest and lowest overall costs."
   ]
  },
  {
   "cell_type": "markdown",
   "id": "78e4a94c-d271-4b35-9aa3-44ad01011ed6",
   "metadata": {},
   "source": [
    "**ANSWER -- LOWEST:** If we exclude AK, HI, and PR, our result for the lowest cost states does not change. That's because these 3 were among the highest, so they do not change the results for the lowest."
   ]
  },
  {
   "cell_type": "markdown",
   "id": "509b1422-7cb0-4a20-9416-37f3606dcbe1",
   "metadata": {},
   "source": [
    "**ANSWER -- HIGHEST:** If we exclude AK, HI, and PR, then we find that California has the highest grocery costs, and Massachusetts has the highest overall cost of living. "
   ]
  },
  {
   "cell_type": "markdown",
   "id": "d2bfd7c2-b2dd-495a-b72a-d92252d00d2e",
   "metadata": {},
   "source": [
    "**HOW DID I DETERMINE THAT?** I used our sorting trick, but first removed the rows for AK, HI, and PR from the dataset. This is called *__filtering__*. "
   ]
  },
  {
   "cell_type": "markdown",
   "id": "f5c75a98-631a-4953-b360-b2117a104175",
   "metadata": {},
   "source": [
    "##### Highest grocery costs in the \"Lower 48\" + DC"
   ]
  },
  {
   "cell_type": "code",
   "execution_count": 8,
   "id": "6e045f71-dabb-40ad-b0d4-347d4e546492",
   "metadata": {
    "editable": true,
    "slideshow": {
     "slide_type": ""
    },
    "tags": [
     "remove-input"
    ]
   },
   "outputs": [
    {
     "data": {
      "text/html": [
       "<table border=\"1\" class=\"dataframe\">\n",
       "  <thead>\n",
       "    <tr style=\"text-align: right;\">\n",
       "      <th>State</th>\n",
       "      <th>Index</th>\n",
       "      <th>Grocery</th>\n",
       "      <th>Housing</th>\n",
       "      <th>Utilities</th>\n",
       "      <th>Transportation</th>\n",
       "      <th>Health</th>\n",
       "      <th>Misc.</th>\n",
       "    </tr>\n",
       "  </thead>\n",
       "  <tbody>\n",
       "    <tr>\n",
       "      <td>California</td>\n",
       "      <td>141.6</td>\n",
       "      <td>108.8</td>\n",
       "      <td>197.8</td>\n",
       "      <td>140.7</td>\n",
       "      <td>138.7</td>\n",
       "      <td>105.4</td>\n",
       "      <td>115.8</td>\n",
       "    </tr>\n",
       "    <tr>\n",
       "      <td>Washington</td>\n",
       "      <td>112.0</td>\n",
       "      <td>108.2</td>\n",
       "      <td>116.8</td>\n",
       "      <td>96.7</td>\n",
       "      <td>122.4</td>\n",
       "      <td>113.0</td>\n",
       "      <td>110.7</td>\n",
       "    </tr>\n",
       "    <tr>\n",
       "      <td>Vermont</td>\n",
       "      <td>113.7</td>\n",
       "      <td>106.4</td>\n",
       "      <td>130.7</td>\n",
       "      <td>114.5</td>\n",
       "      <td>101.2</td>\n",
       "      <td>113.0</td>\n",
       "      <td>106.1</td>\n",
       "    </tr>\n",
       "    <tr>\n",
       "      <td>Maryland</td>\n",
       "      <td>114.9</td>\n",
       "      <td>105.1</td>\n",
       "      <td>133.8</td>\n",
       "      <td>114.4</td>\n",
       "      <td>103.6</td>\n",
       "      <td>105.4</td>\n",
       "      <td>107.9</td>\n",
       "    </tr>\n",
       "    <tr>\n",
       "      <td>Florida</td>\n",
       "      <td>102.0</td>\n",
       "      <td>105.1</td>\n",
       "      <td>106.0</td>\n",
       "      <td>99.3</td>\n",
       "      <td>101.2</td>\n",
       "      <td>90.3</td>\n",
       "      <td>99.9</td>\n",
       "    </tr>\n",
       "  </tbody>\n",
       "</table>"
      ],
      "text/plain": [
       "<IPython.core.display.HTML object>"
      ]
     },
     "metadata": {},
     "output_type": "display_data"
    }
   ],
   "source": [
    "dfFilt = df[~(df['State'].isin(['Alaska', 'Hawaii', 'Puerto Rico']))]\n",
    "DisplayDF(dfFilt.sort_values('Grocery', ascending=False).head())"
   ]
  },
  {
   "cell_type": "markdown",
   "id": "2d3f6a61-f285-4e76-935a-7a37545cdabe",
   "metadata": {},
   "source": [
    "##### Highest overall costs in the \"Lower 48\" + DC"
   ]
  },
  {
   "cell_type": "code",
   "execution_count": 9,
   "id": "b99c4710-91b8-4431-94bf-cf3894658ee7",
   "metadata": {
    "editable": true,
    "slideshow": {
     "slide_type": ""
    },
    "tags": [
     "remove-input"
    ]
   },
   "outputs": [
    {
     "data": {
      "text/html": [
       "<table border=\"1\" class=\"dataframe\">\n",
       "  <thead>\n",
       "    <tr style=\"text-align: right;\">\n",
       "      <th>State</th>\n",
       "      <th>Index</th>\n",
       "      <th>Grocery</th>\n",
       "      <th>Housing</th>\n",
       "      <th>Utilities</th>\n",
       "      <th>Transportation</th>\n",
       "      <th>Health</th>\n",
       "      <th>Misc.</th>\n",
       "    </tr>\n",
       "  </thead>\n",
       "  <tbody>\n",
       "    <tr>\n",
       "      <td>Massachusetts</td>\n",
       "      <td>145.1</td>\n",
       "      <td>102.7</td>\n",
       "      <td>215.0</td>\n",
       "      <td>158.9</td>\n",
       "      <td>103.0</td>\n",
       "      <td>139.0</td>\n",
       "      <td>114.6</td>\n",
       "    </tr>\n",
       "    <tr>\n",
       "      <td>California</td>\n",
       "      <td>141.6</td>\n",
       "      <td>108.8</td>\n",
       "      <td>197.8</td>\n",
       "      <td>140.7</td>\n",
       "      <td>138.7</td>\n",
       "      <td>105.4</td>\n",
       "      <td>115.8</td>\n",
       "    </tr>\n",
       "    <tr>\n",
       "      <td>District of Columbia</td>\n",
       "      <td>135.2</td>\n",
       "      <td>104.5</td>\n",
       "      <td>200.8</td>\n",
       "      <td>102.5</td>\n",
       "      <td>108.0</td>\n",
       "      <td>123.6</td>\n",
       "      <td>111.3</td>\n",
       "    </tr>\n",
       "    <tr>\n",
       "      <td>New York</td>\n",
       "      <td>124.7</td>\n",
       "      <td>104.1</td>\n",
       "      <td>174.2</td>\n",
       "      <td>100.2</td>\n",
       "      <td>108.7</td>\n",
       "      <td>110.5</td>\n",
       "      <td>105.1</td>\n",
       "    </tr>\n",
       "    <tr>\n",
       "      <td>Maryland</td>\n",
       "      <td>114.9</td>\n",
       "      <td>105.1</td>\n",
       "      <td>133.8</td>\n",
       "      <td>114.4</td>\n",
       "      <td>103.6</td>\n",
       "      <td>105.4</td>\n",
       "      <td>107.9</td>\n",
       "    </tr>\n",
       "  </tbody>\n",
       "</table>"
      ],
      "text/plain": [
       "<IPython.core.display.HTML object>"
      ]
     },
     "metadata": {},
     "output_type": "display_data"
    }
   ],
   "source": [
    "dfFilt = df[~(df['State'].isin(['Alaska', 'Hawaii', 'Puerto Rico']))]\n",
    "DisplayDF(dfFilt.sort_values('Index', ascending=False).head())"
   ]
  },
  {
   "cell_type": "markdown",
   "id": "6a2a9a3c-9364-45e7-be43-9c69f5e0c7a2",
   "metadata": {},
   "source": [
    "#### Summary"
   ]
  },
  {
   "cell_type": "markdown",
   "id": "3d469cca-3914-445c-81fc-28560250c70a",
   "metadata": {},
   "source": [
    "What have we learned?\n",
    "\n",
    "* Think about the question. Then translate that into the data.\n",
    "* You must understand your data.\n",
    "* *Sorting* is an easy, efficient way to determine the highest or lowest value.\n",
    "* We can sort one of two ways - highest value at the top, or lowest value at the top.\n",
    "* Sometimes, we need to do something inefficiently (e.g., scrolling through 50 states) before realizing that there is a better way.\n",
    "* Excluding data from an analysis is called *filtering*.\n",
    "\n",
    "Finally, note that our reasoning process is *independent of software*. We can look at data on paper and determine that we need to filter or sort. We can then perform the analysis in the software of our choice. It would be easy to perform this analysis in Excel, but we could also use SQL, Python, etc."
   ]
  },
  {
   "cell_type": "markdown",
   "id": "651cf925-27b1-41f7-95f4-9c9732002d3c",
   "metadata": {},
   "source": [
    "### Example 2: Employee Spending Report"
   ]
  },
  {
   "cell_type": "markdown",
   "id": "01071318-96bd-40ff-8cfb-5b15cb14a539",
   "metadata": {},
   "source": [
    "You work in the internal audit function of your company. You are tasked with analyzing employee credit card purchases. Your manager prints out a report showing all credit card purchases for three employees over the last year:"
   ]
  },
  {
   "cell_type": "code",
   "execution_count": 10,
   "id": "8d37ab12-4f2e-4d6d-8ada-5325ac14e353",
   "metadata": {
    "editable": true,
    "slideshow": {
     "slide_type": ""
    },
    "tags": [
     "remove-input"
    ]
   },
   "outputs": [
    {
     "data": {
      "text/html": [
       "<table border=\"1\" class=\"dataframe\">\n",
       "  <thead>\n",
       "    <tr style=\"text-align: right;\">\n",
       "      <th>TransactionDate</th>\n",
       "      <th>Name</th>\n",
       "      <th>ItemDescription</th>\n",
       "      <th>Vendor</th>\n",
       "      <th>MerchantCategoryCode</th>\n",
       "      <th>Amount</th>\n",
       "    </tr>\n",
       "  </thead>\n",
       "  <tbody>\n",
       "    <tr>\n",
       "      <td>2014-12-03</td>\n",
       "      <td>Downing,P</td>\n",
       "      <td>GENERAL PURCHASE</td>\n",
       "      <td>CAUSLEY PRODUCTIONS</td>\n",
       "      <td>MISCELLANEOUS APPAREL AND ACCESSORY STORES</td>\n",
       "      <td>3659.84</td>\n",
       "    </tr>\n",
       "    <tr>\n",
       "      <td>2014-02-03</td>\n",
       "      <td>Wallace,D</td>\n",
       "      <td>GENERAL PURCHASE</td>\n",
       "      <td>RESEARCH &amp; MARKETS</td>\n",
       "      <td>BUSINESS SERVICES NOT ELSEWHERE CLASSIFIED</td>\n",
       "      <td>1061.27</td>\n",
       "    </tr>\n",
       "    <tr>\n",
       "      <td>2014-12-18</td>\n",
       "      <td>Downing,P</td>\n",
       "      <td>GENERAL PURCHASE</td>\n",
       "      <td>AVIALL AVIALL INC.</td>\n",
       "      <td>MISC. AUTOMOTIVE,AIRCRAFT,AND FARM EQUIPMENT DEALERS</td>\n",
       "      <td>516.86</td>\n",
       "    </tr>\n",
       "    <tr>\n",
       "      <td>2014-12-10</td>\n",
       "      <td>Downing,P</td>\n",
       "      <td>GENERAL PURCHASE</td>\n",
       "      <td>UCM SKYHAVEN AIRPORT MAIN</td>\n",
       "      <td>COLLEGES,UNIVERSITIES,PROFESSIONAL SCHLS AND JR COLLEGES</td>\n",
       "      <td>297.72</td>\n",
       "    </tr>\n",
       "    <tr>\n",
       "      <td>2014-01-20</td>\n",
       "      <td>Wallace,D</td>\n",
       "      <td>GENERAL PURCHASE</td>\n",
       "      <td>2MARKET INFORMATION TECHN</td>\n",
       "      <td>BUSINESS SERVICES NOT ELSEWHERE CLASSIFIED</td>\n",
       "      <td>270.00</td>\n",
       "    </tr>\n",
       "    <tr>\n",
       "      <td>2014-02-05</td>\n",
       "      <td>Wallace,D</td>\n",
       "      <td>GENERAL PURCHASE</td>\n",
       "      <td>PRINCIPAL INVESTIGATORS A</td>\n",
       "      <td>BOOKS, PERIODICALS AND NEWSPAPERS</td>\n",
       "      <td>259.00</td>\n",
       "    </tr>\n",
       "    <tr>\n",
       "      <td>2014-03-13</td>\n",
       "      <td>Black,A</td>\n",
       "      <td>GENERAL PURCHASE</td>\n",
       "      <td>HOBBY-LOBBY #0005</td>\n",
       "      <td>HOBBY,TOY,AND GAME STORES</td>\n",
       "      <td>256.63</td>\n",
       "    </tr>\n",
       "    <tr>\n",
       "      <td>2014-01-28</td>\n",
       "      <td>Wallace,D</td>\n",
       "      <td>SABRENT MULTI-Dsply USB 2 PCE\\nCTG Ultima SVGA Mon</td>\n",
       "      <td>SYX TIGERDIRECT.COM</td>\n",
       "      <td>COMPUTERS, COMPUTER PERIPHERAL EQUIPMENT, SOFTWARE</td>\n",
       "      <td>107.25</td>\n",
       "    </tr>\n",
       "    <tr>\n",
       "      <td>2014-12-01</td>\n",
       "      <td>Black,A</td>\n",
       "      <td>GENERAL PURCHASE</td>\n",
       "      <td>NATURES SUPPLY LLC</td>\n",
       "      <td>MISCELLANEOUS FOOD STORES-CONV STRS AND SPECIALTY MKTS.</td>\n",
       "      <td>63.79</td>\n",
       "    </tr>\n",
       "    <tr>\n",
       "      <td>2014-03-14</td>\n",
       "      <td>Black,A</td>\n",
       "      <td>GENERAL PURCHASE</td>\n",
       "      <td>HOBBY-LOBBY #0005</td>\n",
       "      <td>HOBBY,TOY,AND GAME STORES</td>\n",
       "      <td>35.78</td>\n",
       "    </tr>\n",
       "    <tr>\n",
       "      <td>2014-03-20</td>\n",
       "      <td>Black,A</td>\n",
       "      <td>GENERAL PURCHASE</td>\n",
       "      <td>WAL-MART #0137</td>\n",
       "      <td>GROCERY STORES,AND SUPERMARKETS</td>\n",
       "      <td>9.97</td>\n",
       "    </tr>\n",
       "    <tr>\n",
       "      <td>2014-02-05</td>\n",
       "      <td>Wallace,D</td>\n",
       "      <td>GENERAL PURCHASE</td>\n",
       "      <td>WEB LOGOYES.COM</td>\n",
       "      <td>CONTINUITY/SUBSCRIPTION MERCHANTS</td>\n",
       "      <td>0.99</td>\n",
       "    </tr>\n",
       "  </tbody>\n",
       "</table>"
      ],
      "text/plain": [
       "<IPython.core.display.HTML object>"
      ]
     },
     "metadata": {},
     "output_type": "display_data"
    }
   ],
   "source": [
    "df = pd.read_excel('data/Employee credit card purchases.xlsx')\n",
    "DisplayDF(df)"
   ]
  },
  {
   "cell_type": "markdown",
   "id": "b3cbb958-5253-4b58-b0a6-ecc8ef7563d7",
   "metadata": {},
   "source": [
    "**QUESTION:** What was the total spending by employee?"
   ]
  },
  {
   "cell_type": "markdown",
   "id": "017b208d-2765-433c-9aad-ae4ff150278a",
   "metadata": {},
   "source": [
    "**ANSWER:**"
   ]
  },
  {
   "cell_type": "code",
   "execution_count": 11,
   "id": "89ebda43-46ab-4982-8b94-e20a39bef89b",
   "metadata": {
    "editable": true,
    "slideshow": {
     "slide_type": ""
    },
    "tags": [
     "remove-input"
    ]
   },
   "outputs": [
    {
     "data": {
      "text/html": [
       "<table border=\"1\" class=\"dataframe\">\n",
       "  <thead>\n",
       "    <tr style=\"text-align: right;\">\n",
       "      <th>Name</th>\n",
       "      <th>Amount</th>\n",
       "    </tr>\n",
       "  </thead>\n",
       "  <tbody>\n",
       "    <tr>\n",
       "      <td>Black,A</td>\n",
       "      <td>366.17</td>\n",
       "    </tr>\n",
       "    <tr>\n",
       "      <td>Downing,P</td>\n",
       "      <td>4474.42</td>\n",
       "    </tr>\n",
       "    <tr>\n",
       "      <td>Wallace,D</td>\n",
       "      <td>1698.51</td>\n",
       "    </tr>\n",
       "  </tbody>\n",
       "</table>"
      ],
      "text/plain": [
       "<IPython.core.display.HTML object>"
      ]
     },
     "metadata": {},
     "output_type": "display_data"
    }
   ],
   "source": [
    "pvt = pd.pivot_table(df, index='Name', values='Amount', aggfunc='sum')\n",
    "pvt.reset_index(inplace=True)\n",
    "DisplayDF(pvt)"
   ]
  },
  {
   "cell_type": "markdown",
   "id": "bf5787d5-c468-4252-befc-315e6f713e3e",
   "metadata": {},
   "source": [
    "**HOW DID I DETERMINE THAT?** This was difficult.\n",
    "\n",
    "1. I looked through the *Name* column and determined that there are 3 employees.\n",
    "2. I wrote down each employee's name once.\n",
    "3. For each employee, I went through the list of transactions and summed spending (in the *Amount* column) for just that employee.\n",
    "4. I wrote down that employee's total spending next to his/her name."
   ]
  },
  {
   "cell_type": "markdown",
   "id": "7cad463e-da74-473c-bfd4-0a74be9f0ee4",
   "metadata": {},
   "source": [
    "**IS THERE A BETTER WAY?** There is. *What we did is a pivot table!!!* The pivot table identifies unique/distinct values in one column. For each one, it computes something using data from another column. In this case, we summed whatever is in the *Amount* column for each unique value in the *Name* column."
   ]
  },
  {
   "cell_type": "markdown",
   "id": "bb4a0769-1b03-4043-9776-fa7543b1e8a9",
   "metadata": {},
   "source": [
    "#### Summary"
   ]
  },
  {
   "cell_type": "markdown",
   "id": "4c470b9f-a4b3-491e-899a-4005c71d4994",
   "metadata": {},
   "source": [
    "What have we learned?\n",
    "\n",
    "* A *pivot table* is an easy, efficient way to compute something for each category in your data. In this example, the \"categories\" were employees.\n",
    "\n",
    "Again, note that our reasoning process is *independent of software*. We can look at data on paper and determine what we need to do. We can then perform the analysis in the software of your choice. It would be easy to perform this analysis in Excel, but you could also use SQL, Python, etc."
   ]
  },
  {
   "cell_type": "markdown",
   "id": "5786cae2-118d-4c22-89b0-968c70cb731b",
   "metadata": {},
   "source": [
    "### Example 3: Stock Returns"
   ]
  },
  {
   "cell_type": "markdown",
   "id": "b02d9476-4b09-484a-907c-057f50abac3a",
   "metadata": {},
   "source": [
    "You get an internship at a hedge fund. Your manager gives you data on three stocks from the past three days. Note that DELL is the ticker symbol for Dell, TXN is for Texas Instruments, and XOM is for ExxonMobil."
   ]
  },
  {
   "cell_type": "code",
   "execution_count": 12,
   "id": "faf00176-e8c5-4ea2-862b-8977fc711cf8",
   "metadata": {
    "editable": true,
    "slideshow": {
     "slide_type": ""
    },
    "tags": [
     "remove-input"
    ]
   },
   "outputs": [
    {
     "data": {
      "text/html": [
       "<table border=\"1\" class=\"dataframe\">\n",
       "  <thead>\n",
       "    <tr style=\"text-align: right;\">\n",
       "      <th>Ticker</th>\n",
       "      <th>Date</th>\n",
       "      <th>Closing Price</th>\n",
       "      <th>Yesterday's Closing Price</th>\n",
       "    </tr>\n",
       "  </thead>\n",
       "  <tbody>\n",
       "    <tr>\n",
       "      <td>DELL</td>\n",
       "      <td>2025-08-20</td>\n",
       "      <td>128.48</td>\n",
       "      <td>135.20</td>\n",
       "    </tr>\n",
       "    <tr>\n",
       "      <td>TXN</td>\n",
       "      <td>2025-08-20</td>\n",
       "      <td>200.77</td>\n",
       "      <td>195.94</td>\n",
       "    </tr>\n",
       "    <tr>\n",
       "      <td>XOM</td>\n",
       "      <td>2025-08-20</td>\n",
       "      <td>108.53</td>\n",
       "      <td>107.42</td>\n",
       "    </tr>\n",
       "    <tr>\n",
       "      <td>DELL</td>\n",
       "      <td>2025-08-21</td>\n",
       "      <td>127.83</td>\n",
       "      <td>128.48</td>\n",
       "    </tr>\n",
       "    <tr>\n",
       "      <td>TXN</td>\n",
       "      <td>2025-08-21</td>\n",
       "      <td>200.71</td>\n",
       "      <td>200.77</td>\n",
       "    </tr>\n",
       "    <tr>\n",
       "      <td>XOM</td>\n",
       "      <td>2025-08-21</td>\n",
       "      <td>109.23</td>\n",
       "      <td>108.53</td>\n",
       "    </tr>\n",
       "    <tr>\n",
       "      <td>DELL</td>\n",
       "      <td>2025-08-22</td>\n",
       "      <td>130.84</td>\n",
       "      <td>127.83</td>\n",
       "    </tr>\n",
       "    <tr>\n",
       "      <td>TXN</td>\n",
       "      <td>2025-08-22</td>\n",
       "      <td>206.06</td>\n",
       "      <td>200.71</td>\n",
       "    </tr>\n",
       "    <tr>\n",
       "      <td>XOM</td>\n",
       "      <td>2025-08-22</td>\n",
       "      <td>111.28</td>\n",
       "      <td>109.23</td>\n",
       "    </tr>\n",
       "  </tbody>\n",
       "</table>"
      ],
      "text/plain": [
       "<IPython.core.display.HTML object>"
      ]
     },
     "metadata": {},
     "output_type": "display_data"
    }
   ],
   "source": [
    "df = pd.read_excel('data/Stock data.xlsx')\n",
    "DisplayDF(df)"
   ]
  },
  {
   "cell_type": "markdown",
   "id": "44fa40c5-1a47-4f2c-8d69-3301cec6e0e4",
   "metadata": {},
   "source": [
    "**QUESTION:** Your manager tells you to compute the daily stock returns. She then wants you to compute the average daily return for each of the three stocks. Finally, she wants to know which stock had the *lowest* average daily return. Your firm holds positions in these three stocks and she wants to sell the stock that had the lowest return over the past three days."
   ]
  },
  {
   "cell_type": "markdown",
   "id": "501c06bf-7576-42b9-8ad7-0e3a0dc6602d",
   "metadata": {},
   "source": [
    "**COMPUTING STOCK RETURNS:** You remember from your finance classes that the daily return on a stock is given by the following formula:\n",
    "\n",
    "$\\text{Return} = \\frac{\\text{Today closing price} - \\text{yesterday closing price}}{\\text{yesterday closing price}} \\times 100$"
   ]
  },
  {
   "cell_type": "markdown",
   "id": "a5fff3f4-8698-421b-8639-64324616d2c6",
   "metadata": {},
   "source": [
    "**ANSWER:**"
   ]
  },
  {
   "cell_type": "code",
   "execution_count": 13,
   "id": "f334f3b1-c5c6-46f1-a850-f94728bb19d0",
   "metadata": {
    "editable": true,
    "slideshow": {
     "slide_type": ""
    },
    "tags": [
     "remove-input"
    ]
   },
   "outputs": [
    {
     "data": {
      "text/html": [
       "<style type=\"text/css\">\n",
       "</style>\n",
       "<table id=\"T_c35f4\">\n",
       "  <thead>\n",
       "    <tr>\n",
       "      <th class=\"blank level0\" >&nbsp;</th>\n",
       "      <th id=\"T_c35f4_level0_col0\" class=\"col_heading level0 col0\" >Return</th>\n",
       "    </tr>\n",
       "    <tr>\n",
       "      <th class=\"index_name level0\" >Ticker</th>\n",
       "      <th class=\"blank col0\" >&nbsp;</th>\n",
       "    </tr>\n",
       "  </thead>\n",
       "  <tbody>\n",
       "    <tr>\n",
       "      <th id=\"T_c35f4_level0_row0\" class=\"row_heading level0 row0\" >DELL</th>\n",
       "      <td id=\"T_c35f4_row0_col0\" class=\"data row0 col0\" >-0.01041%</td>\n",
       "    </tr>\n",
       "    <tr>\n",
       "      <th id=\"T_c35f4_level0_row1\" class=\"row_heading level0 row1\" >XOM</th>\n",
       "      <td id=\"T_c35f4_row1_col0\" class=\"data row1 col0\" >0.01185%</td>\n",
       "    </tr>\n",
       "    <tr>\n",
       "      <th id=\"T_c35f4_level0_row2\" class=\"row_heading level0 row2\" >TXN</th>\n",
       "      <td id=\"T_c35f4_row2_col0\" class=\"data row2 col0\" >0.01700%</td>\n",
       "    </tr>\n",
       "  </tbody>\n",
       "</table>\n"
      ],
      "text/plain": [
       "<pandas.io.formats.style.Styler at 0x1e91a64cec0>"
      ]
     },
     "execution_count": 13,
     "metadata": {},
     "output_type": "execute_result"
    }
   ],
   "source": [
    "df['Return'] = (df['Closing Price'] - df[\"Yesterday's Closing Price\"]) / df[\"Yesterday's Closing Price\"]\n",
    "pvt = pd.pivot_table(df, index='Ticker', values='Return', aggfunc='mean')\n",
    "pvt.sort_values('Return', inplace=True)\n",
    "pvt.style.format({'Return': '{:.5f}%'})"
   ]
  },
  {
   "cell_type": "markdown",
   "id": "d49c6fc6-9c91-420d-9f39-1e4ee1bfd12f",
   "metadata": {},
   "source": [
    "From the table, we learn that Dell had the lowest average return over the last three days."
   ]
  },
  {
   "cell_type": "markdown",
   "id": "6794003f-9ffb-406a-af2c-d42dab3aa289",
   "metadata": {},
   "source": [
    "**HOW DID I DETERMINE THAT?**\n",
    "\n",
    "First, for each row of the original data table, I first needed to compute the return for that stock and that day:"
   ]
  },
  {
   "cell_type": "code",
   "execution_count": 14,
   "id": "986b2821-5a20-4926-99a0-14fbc2152d31",
   "metadata": {
    "editable": true,
    "slideshow": {
     "slide_type": ""
    },
    "tags": [
     "remove-input"
    ]
   },
   "outputs": [
    {
     "data": {
      "text/html": [
       "<table border=\"1\" class=\"dataframe\">\n",
       "  <thead>\n",
       "    <tr style=\"text-align: right;\">\n",
       "      <th>Ticker</th>\n",
       "      <th>Date</th>\n",
       "      <th>Closing Price</th>\n",
       "      <th>Yesterday's Closing Price</th>\n",
       "      <th>Return</th>\n",
       "    </tr>\n",
       "  </thead>\n",
       "  <tbody>\n",
       "    <tr>\n",
       "      <td>DELL</td>\n",
       "      <td>2025-08-20</td>\n",
       "      <td>128.48</td>\n",
       "      <td>135.20</td>\n",
       "      <td>-0.049704</td>\n",
       "    </tr>\n",
       "    <tr>\n",
       "      <td>TXN</td>\n",
       "      <td>2025-08-20</td>\n",
       "      <td>200.77</td>\n",
       "      <td>195.94</td>\n",
       "      <td>0.024650</td>\n",
       "    </tr>\n",
       "    <tr>\n",
       "      <td>XOM</td>\n",
       "      <td>2025-08-20</td>\n",
       "      <td>108.53</td>\n",
       "      <td>107.42</td>\n",
       "      <td>0.010333</td>\n",
       "    </tr>\n",
       "    <tr>\n",
       "      <td>DELL</td>\n",
       "      <td>2025-08-21</td>\n",
       "      <td>127.83</td>\n",
       "      <td>128.48</td>\n",
       "      <td>-0.005059</td>\n",
       "    </tr>\n",
       "    <tr>\n",
       "      <td>TXN</td>\n",
       "      <td>2025-08-21</td>\n",
       "      <td>200.71</td>\n",
       "      <td>200.77</td>\n",
       "      <td>-0.000299</td>\n",
       "    </tr>\n",
       "    <tr>\n",
       "      <td>XOM</td>\n",
       "      <td>2025-08-21</td>\n",
       "      <td>109.23</td>\n",
       "      <td>108.53</td>\n",
       "      <td>0.006450</td>\n",
       "    </tr>\n",
       "    <tr>\n",
       "      <td>DELL</td>\n",
       "      <td>2025-08-22</td>\n",
       "      <td>130.84</td>\n",
       "      <td>127.83</td>\n",
       "      <td>0.023547</td>\n",
       "    </tr>\n",
       "    <tr>\n",
       "      <td>TXN</td>\n",
       "      <td>2025-08-22</td>\n",
       "      <td>206.06</td>\n",
       "      <td>200.71</td>\n",
       "      <td>0.026655</td>\n",
       "    </tr>\n",
       "    <tr>\n",
       "      <td>XOM</td>\n",
       "      <td>2025-08-22</td>\n",
       "      <td>111.28</td>\n",
       "      <td>109.23</td>\n",
       "      <td>0.018768</td>\n",
       "    </tr>\n",
       "  </tbody>\n",
       "</table>"
      ],
      "text/plain": [
       "<IPython.core.display.HTML object>"
      ]
     },
     "metadata": {},
     "output_type": "display_data"
    }
   ],
   "source": [
    "DisplayDF(df)"
   ]
  },
  {
   "cell_type": "markdown",
   "id": "ad4266ed-d258-48df-b185-0abf912466f2",
   "metadata": {},
   "source": [
    "Second, I wrote down each ticker, just once.\n",
    "\n",
    "Third, for each ticker, I average its three returns.\n",
    "\n",
    "Finally, I wrote down that ticker's average return next to the ticker symbol."
   ]
  },
  {
   "cell_type": "markdown",
   "id": "7e0b05b1-c6ba-4b86-bc8a-df05b8e858cf",
   "metadata": {},
   "source": [
    "**IS THERE A BETTER WAY?** There is. *This is a pivot table!!!* The pivot table identifies unique/distinct values in one column. For each one, it computes something in another column. In this case, I computed the average of whatever is in the *Return* column for each unique value in the *Ticker* column."
   ]
  },
  {
   "cell_type": "markdown",
   "id": "c4982513-0031-46d2-b8ac-8d3b61d72239",
   "metadata": {},
   "source": [
    "## Overall Summary and Takeaways"
   ]
  },
  {
   "cell_type": "markdown",
   "id": "d523201d-eba6-4a6d-b832-f13e174a5a70",
   "metadata": {},
   "source": [
    "What have we learned?\n",
    "\n",
    "Begin with the question that was asked. Then, understand your data. You must devise a plan for what to do with your data to answer the question. This plan is a sequence of steps. Write down this sequence of steps! If you write this down *before* you work with your data, you will be less likely to make mistakes.\n",
    "\n",
    "Once you have written down your sequence of steps, then get to work with your data. Try to implement the sequence of steps. If you are working with SQL, you will translate your sequence of steps into code. If you are working in Excel, you will implement your sequence of steps one at a time.\n",
    "\n",
    "When you have finished your analysis, look at the results. Do they make sense? Do they pass the \"sniff test\"? If so, interpret your results and answer the original question. Often, at this point, additional questions will arise.\n",
    "\n",
    "Finally, note that our reasoning process is *independent of software*. "
   ]
  },
  {
   "cell_type": "markdown",
   "id": "13246524-a303-46d9-a67a-60c242a07ed6",
   "metadata": {},
   "source": [
    "## References"
   ]
  },
  {
   "cell_type": "markdown",
   "id": "3dd6440f-28ce-4fdc-9649-b43df2fdf607",
   "metadata": {},
   "source": [
    "\\[1\\] Chamberlin, Donald D; Boyce, Raymond F (1974). \"SEQUEL: A Structured English Query Language\". *Proceedings of the 1974 ACM SIGFIDET Workshop on Data Description, Access and Control. Association for Computing Machinery*: 249-64. Archived from the original on 26 September 2007. Retrieved 9 June 2007.\n",
    "\n",
    "\\[2\\] https://meric.mo.gov/data/cost-living-data-series"
   ]
  }
 ],
 "metadata": {
  "kernelspec": {
   "display_name": "Python 3 (ipykernel)",
   "language": "python",
   "name": "python3"
  },
  "language_info": {
   "codemirror_mode": {
    "name": "ipython",
    "version": 3
   },
   "file_extension": ".py",
   "mimetype": "text/x-python",
   "name": "python",
   "nbconvert_exporter": "python",
   "pygments_lexer": "ipython3",
   "version": "3.13.2"
  }
 },
 "nbformat": 4,
 "nbformat_minor": 5
}
